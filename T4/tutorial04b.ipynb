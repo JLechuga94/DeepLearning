{
 "cells": [
  {
   "cell_type": "markdown",
   "metadata": {
    "colab_type": "text",
    "id": "bIAYbYajk1w9"
   },
   "source": [
    "# Convolutional Neural Networks\n",
    "\n",
    "For this homework you will train a CNN on the Hymenoptera dataset that you can download from here:\n",
    "\n",
    "- https://download.pytorch.org/tutorial/hymenoptera_data.zip\n",
    "\n",
    "You will code any CNN architecture that you want for this, using pytorch and/or pytorch-lightning (you can use only pytorch is you want)"
   ]
  },
  {
   "cell_type": "markdown",
   "metadata": {},
   "source": [
    "## Load the dataset\n",
    "\n",
    "**QUESTION.** Load the dataset into two dataloaders, one from training and the other for validation.\n",
    "\n",
    "- You can use `torchvision.datasets.ImageFolder` and pass it to `DataLoader` for this, have a look at the documentation\n",
    "- In the transformations, you should resize the images to make things faster (using the size of CIFAR-10's images for instance), and use some data augmentation (only for the training dataloader, of course) "
   ]
  },
  {
   "cell_type": "markdown",
   "metadata": {
    "ExecuteTime": {
     "end_time": "2021-03-06T12:55:08.140694Z",
     "start_time": "2021-03-06T12:55:08.136278Z"
    },
    "colab": {
     "base_uri": "https://localhost:8080/",
     "height": 52
    },
    "colab_type": "code",
    "collapsed": true,
    "executionInfo": {
     "elapsed": 2530,
     "status": "ok",
     "timestamp": 1545795192346,
     "user": {
      "displayName": "Buomsoo Kim",
      "photoUrl": "",
      "userId": "18268696804115368229"
     },
     "user_tz": 420
    },
    "id": "W5anlYa01w3w",
    "outputId": "dc43d91b-ad85-423f-fb18-1a0d2af22f25",
    "scrolled": true
   },
   "source": [
    "**QUESTION.** Display some images and their associated labels. You should see images of bees and ants :)"
   ]
  },
  {
   "cell_type": "code",
   "execution_count": null,
   "metadata": {},
   "outputs": [],
   "source": []
  },
  {
   "cell_type": "markdown",
   "metadata": {},
   "source": [
    "## Neural net architecture\n",
    "\n",
    "You are free to define any kind of convolutional neural network that you think is reasonable for today's problem.\n",
    "Remember that convolutional neural networks are usually a combination of the following building blocks:\n",
    "\n",
    "  * Convolutional layers\n",
    "  * Pooling layers\n",
    "  * Linear layers\n",
    "  \n",
    "It is your task today to arrange these components into a reasonable architecture."
   ]
  },
  {
   "cell_type": "code",
   "execution_count": null,
   "metadata": {
    "ExecuteTime": {
     "end_time": "2021-03-06T12:57:13.083785Z",
     "start_time": "2021-03-06T12:57:12.626274Z"
    },
    "colab": {},
    "colab_type": "code",
    "id": "AQawpMRPI7jm"
   },
   "outputs": [],
   "source": [
    "import torch.nn.functional as F\n",
    "\n",
    "# Inherit from LightningModule is you use pytorch-lightning, and you'll need to code some more methods\n",
    "class ConvNet(nn.Module):\n",
    "\n",
    "    def __init__(self, output_dim):\n",
    "\n",
    "        super(ConvNet, self).__init__()\n",
    "        \n",
    "        self.encoder = nn.Sequential(\n",
    "               \n",
    "        )\n",
    "        \n",
    "        self.classifier = nn.Sequential(\n",
    "                    \n",
    "        )\n",
    "\n",
    "    def forward(self, x):\n",
    "        \n",
    "        \n",
    "        return x"
   ]
  },
  {
   "cell_type": "markdown",
   "metadata": {},
   "source": [
    "## Training loop and checks\n",
    "\n",
    "**QUESTION**. Code the training loop (specify the loss, etc.). Check that everything is fine, that the forward pass works and that training on a very small subset of the data works as well. Add the callbacks that you want, and prepare the logging tools that you want to use (such as tensorboard, or anything you want to use."
   ]
  },
  {
   "cell_type": "code",
   "execution_count": null,
   "metadata": {
    "colab": {
     "base_uri": "https://localhost:8080/",
     "height": 193
    },
    "colab_type": "code",
    "executionInfo": {
     "elapsed": 89814,
     "status": "ok",
     "timestamp": 1545795315447,
     "user": {
      "displayName": "Buomsoo Kim",
      "photoUrl": "",
      "userId": "18268696804115368229"
     },
     "user_tz": 420
    },
    "id": "SEBtAPYCFeic",
    "outputId": "edda354d-30d8-40cb-fef0-9c2a4fd968eb"
   },
   "outputs": [],
   "source": []
  },
  {
   "cell_type": "markdown",
   "metadata": {},
   "source": [
    "## Measure the performance of you model\n",
    "\n",
    "Measure the performance of your model, and display some things (such as confusion matrix, ROC or AUC curves).\n",
    "Compare several architectures, put your results in an easy to interpret pandas dataframe."
   ]
  },
  {
   "cell_type": "code",
   "execution_count": null,
   "metadata": {},
   "outputs": [],
   "source": []
  },
  {
   "cell_type": "markdown",
   "metadata": {},
   "source": [
    "## Use fine-tuning and transfer learning\n",
    "\n",
    "You might have noticed that training a CNN from scratch can be very slow, hard, painful, and that the overall performance might not be satisfying. \n",
    "\n",
    "**QUESTION.** To overcome this, use a pre-trained network and fine-tune it on the Hymenoptera dataset.\n",
    "You are free to choose any pre-trained model that the PyTorch library offers evaluate and compare its performance to the CNN you have built yourself."
   ]
  },
  {
   "cell_type": "code",
   "execution_count": null,
   "metadata": {},
   "outputs": [],
   "source": []
  }
 ],
 "metadata": {
  "accelerator": "GPU",
  "colab": {
   "collapsed_sections": [],
   "name": "DL-with-pytorch - 2 [MLP].ipynb",
   "provenance": [],
   "version": "0.3.2"
  },
  "kernelspec": {
   "display_name": "Python 3",
   "language": "python",
   "name": "python3"
  },
  "language_info": {
   "codemirror_mode": {
    "name": "ipython",
    "version": 3
   },
   "file_extension": ".py",
   "mimetype": "text/x-python",
   "name": "python",
   "nbconvert_exporter": "python",
   "pygments_lexer": "ipython3",
   "version": "3.7.9"
  },
  "toc": {
   "base_numbering": 1,
   "nav_menu": {},
   "number_sections": true,
   "sideBar": true,
   "skip_h1_title": true,
   "title_cell": "Table of Contents",
   "title_sidebar": "Contents",
   "toc_cell": false,
   "toc_position": {
    "height": "calc(100% - 180px)",
    "left": "10px",
    "top": "150px",
    "width": "252.390625px"
   },
   "toc_section_display": true,
   "toc_window_display": true
  }
 },
 "nbformat": 4,
 "nbformat_minor": 1
}
