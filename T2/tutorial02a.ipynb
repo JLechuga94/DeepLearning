{
 "cells": [
  {
   "cell_type": "markdown",
   "metadata": {},
   "source": [
    "# Tutorial 2a. Tensors\n",
    "\n",
    "- Tensors are one of the main ingredients when it comes to modern Deep-Learning frameworks. \n",
    "- Almost all deep learning computations can be expressed as tensor operations which make computation fast and efficient. \n",
    "- In this practical we will see how to manipulate tensors within the `PyTorch` library\n",
    "\n",
    "You'll need to install `pytorch` using `conda install torch` or `pip install torch` on your laptop"
   ]
  },
  {
   "cell_type": "code",
   "execution_count": null,
   "metadata": {
    "ExecuteTime": {
     "end_time": "2021-02-08T15:35:50.160644Z",
     "start_time": "2021-02-08T15:35:47.696141Z"
    }
   },
   "outputs": [],
   "source": [
    "import torch\n",
    "import numpy as np"
   ]
  },
  {
   "cell_type": "markdown",
   "metadata": {},
   "source": [
    "## Basics with tensors"
   ]
  },
  {
   "cell_type": "code",
   "execution_count": null,
   "metadata": {
    "ExecuteTime": {
     "end_time": "2021-02-08T15:36:40.919440Z",
     "start_time": "2021-02-08T15:36:40.916165Z"
    }
   },
   "outputs": [],
   "source": [
    "# Generate a tensor of size 2x3x4\n",
    "t = torch.Tensor(2, 3, 4)\n",
    "print(t)"
   ]
  },
  {
   "cell_type": "code",
   "execution_count": null,
   "metadata": {
    "ExecuteTime": {
     "end_time": "2021-02-08T15:37:41.019886Z",
     "start_time": "2021-02-08T15:37:41.017107Z"
    }
   },
   "outputs": [],
   "source": [
    "# Get the type of the tensor\n",
    "t.type()"
   ]
  },
  {
   "cell_type": "code",
   "execution_count": null,
   "metadata": {
    "ExecuteTime": {
     "end_time": "2021-02-08T15:37:41.497290Z",
     "start_time": "2021-02-08T15:37:41.493974Z"
    }
   },
   "outputs": [],
   "source": [
    "# Get information about the tensor\n",
    "print(t.size())\n",
    "print(t.shape)\n",
    "print(t.numel())\n",
    "print(t.dim())"
   ]
  },
  {
   "cell_type": "code",
   "execution_count": null,
   "metadata": {
    "ExecuteTime": {
     "end_time": "2021-02-08T15:39:18.744148Z",
     "start_time": "2021-02-08T15:39:18.740271Z"
    }
   },
   "outputs": [],
   "source": [
    "# Resize the tensor\n",
    "r = torch.Tensor(t)\n",
    "r.resize_(3, 8)\n",
    "print(r)\n",
    "print(r.size())"
   ]
  },
  {
   "cell_type": "markdown",
   "metadata": {},
   "source": [
    "## Vectors (1D Tensors) and similarities with Numpy\n",
    "\n",
    "- You might have noticed some similarities between the way PyTorch deals with tensors and the way Numpy deals with arrays\n",
    "- When it comes to basic algebraic operations both libraries can indeed be very similar as shown in some of the examples below"
   ]
  },
  {
   "cell_type": "code",
   "execution_count": null,
   "metadata": {
    "ExecuteTime": {
     "end_time": "2021-02-08T15:40:03.797425Z",
     "start_time": "2021-02-08T15:40:03.793431Z"
    }
   },
   "outputs": [],
   "source": [
    "# Creates a 1D tensor of integers 1 to 4\n",
    "v = torch.Tensor([1, 2, 3, 4])\n",
    "np_v = np.array([1, 2, 3, 4])\n",
    "\n",
    "print(v)\n",
    "print(np_v)"
   ]
  },
  {
   "cell_type": "markdown",
   "metadata": {},
   "source": [
    "Note however the difference with the default `dtypes` used"
   ]
  },
  {
   "cell_type": "code",
   "execution_count": null,
   "metadata": {
    "ExecuteTime": {
     "end_time": "2021-02-08T15:40:07.338457Z",
     "start_time": "2021-02-08T15:40:07.334607Z"
    },
    "scrolled": true
   },
   "outputs": [],
   "source": [
    "v.dtype, np_v.dtype"
   ]
  },
  {
   "cell_type": "code",
   "execution_count": null,
   "metadata": {
    "ExecuteTime": {
     "end_time": "2021-02-08T15:41:30.421479Z",
     "start_time": "2021-02-08T15:41:30.416217Z"
    }
   },
   "outputs": [],
   "source": [
    "# We create a second tensor with the same properties\n",
    "w = torch.Tensor([1, 0, 2, 0])\n",
    "np_w = np.array([1, 0, 2, 0])\n",
    "\n",
    "print(w)\n",
    "print(np_w)"
   ]
  },
  {
   "cell_type": "code",
   "execution_count": null,
   "metadata": {
    "ExecuteTime": {
     "end_time": "2021-02-08T15:41:34.662755Z",
     "start_time": "2021-02-08T15:41:34.659421Z"
    }
   },
   "outputs": [],
   "source": [
    "# Element-wise multiplication\n",
    "x = v * w\n",
    "np_x = np_v * np_w\n",
    "\n",
    "print(x)\n",
    "print(np_x)"
   ]
  },
  {
   "cell_type": "code",
   "execution_count": null,
   "metadata": {
    "ExecuteTime": {
     "end_time": "2021-02-08T15:42:29.362785Z",
     "start_time": "2021-02-08T15:42:29.359472Z"
    }
   },
   "outputs": [],
   "source": [
    "# Slicing: extract sub-Tensor [from:to)\n",
    "print(x[0:3])\n",
    "print(np_x[0:3])"
   ]
  },
  {
   "cell_type": "code",
   "execution_count": null,
   "metadata": {
    "ExecuteTime": {
     "end_time": "2021-02-08T15:42:40.034482Z",
     "start_time": "2021-02-08T15:42:40.031040Z"
    }
   },
   "outputs": [],
   "source": [
    "# Create a tensor with integers ranging from 1 to 5, excluding 5\n",
    "v = torch.arange(1, 4 + 1)\n",
    "np_v = np.arange(1, 5)\n",
    "print(v)\n",
    "print(np_v)"
   ]
  },
  {
   "cell_type": "code",
   "execution_count": null,
   "metadata": {
    "ExecuteTime": {
     "end_time": "2021-02-08T15:42:43.876596Z",
     "start_time": "2021-02-08T15:42:43.873596Z"
    },
    "scrolled": true
   },
   "outputs": [],
   "source": [
    "# Square all elements in the tensor\n",
    "print(v ** 2)\n",
    "print(np_v ** 2)"
   ]
  },
  {
   "cell_type": "markdown",
   "metadata": {},
   "source": [
    "But also"
   ]
  },
  {
   "cell_type": "code",
   "execution_count": null,
   "metadata": {
    "ExecuteTime": {
     "end_time": "2021-02-08T15:42:56.143907Z",
     "start_time": "2021-02-08T15:42:56.140946Z"
    }
   },
   "outputs": [],
   "source": [
    "print(v.pow(2))\n",
    "print(np.power(np_v, 2))"
   ]
  },
  {
   "cell_type": "markdown",
   "metadata": {},
   "source": [
    "## Let's add one dimension: matrices (2D Tensors)"
   ]
  },
  {
   "cell_type": "code",
   "execution_count": null,
   "metadata": {
    "ExecuteTime": {
     "end_time": "2021-02-08T15:44:02.828270Z",
     "start_time": "2021-02-08T15:44:02.824277Z"
    }
   },
   "outputs": [],
   "source": [
    "# Create a 2x4 tensor\n",
    "m = torch.Tensor([[2, 5, 3, 7],\n",
    "                  [4, 2, 1, 9]])\n",
    "print(m)\n",
    "\n",
    "np_m = np.array([[2, 5, 3, 7],[4, 2, 1, 9]])\n",
    "print(np_m)"
   ]
  },
  {
   "cell_type": "code",
   "execution_count": null,
   "metadata": {
    "ExecuteTime": {
     "end_time": "2021-02-08T15:44:12.193347Z",
     "start_time": "2021-02-08T15:44:12.190871Z"
    }
   },
   "outputs": [],
   "source": [
    "# Get the shape of the tensor\n",
    "print(m.size())\n",
    "print(np_m.shape)"
   ]
  },
  {
   "cell_type": "code",
   "execution_count": null,
   "metadata": {
    "ExecuteTime": {
     "end_time": "2021-02-08T15:44:15.390727Z",
     "start_time": "2021-02-08T15:44:15.387431Z"
    },
    "scrolled": true
   },
   "outputs": [],
   "source": [
    "# Indexing row 0, column 2 (0-indexed)\n",
    "m[0, 2]"
   ]
  },
  {
   "cell_type": "code",
   "execution_count": null,
   "metadata": {
    "ExecuteTime": {
     "end_time": "2021-02-08T15:44:39.998213Z",
     "start_time": "2021-02-08T15:44:39.994793Z"
    }
   },
   "outputs": [],
   "source": [
    "# Indexing column 1, all rows (returns size 2)\n",
    "\n",
    "m[:, 1]"
   ]
  },
  {
   "cell_type": "markdown",
   "metadata": {},
   "source": [
    "## Some easy exercises: tensor Operations\n",
    "\n",
    "It is now up to you to get familiar with some basic tensor operations in PyTorch."
   ]
  },
  {
   "cell_type": "code",
   "execution_count": null,
   "metadata": {
    "ExecuteTime": {
     "end_time": "2021-02-04T10:13:12.026653Z",
     "start_time": "2021-02-04T10:13:12.022904Z"
    }
   },
   "outputs": [],
   "source": [
    "m.dtype"
   ]
  },
  {
   "cell_type": "code",
   "execution_count": null,
   "metadata": {
    "ExecuteTime": {
     "end_time": "2021-02-04T10:13:12.435003Z",
     "start_time": "2021-02-04T10:13:12.432048Z"
    }
   },
   "outputs": [],
   "source": [
    "torch.Tensor()"
   ]
  },
  {
   "cell_type": "code",
   "execution_count": null,
   "metadata": {
    "ExecuteTime": {
     "end_time": "2021-02-04T10:13:23.385704Z",
     "start_time": "2021-02-04T10:13:23.383471Z"
    }
   },
   "outputs": [],
   "source": [
    "# Indexing column 1, all rows (returns size 2x1, not 2)\n"
   ]
  },
  {
   "cell_type": "code",
   "execution_count": null,
   "metadata": {
    "ExecuteTime": {
     "end_time": "2021-02-04T10:13:23.515685Z",
     "start_time": "2021-02-04T10:13:23.513690Z"
    }
   },
   "outputs": [],
   "source": [
    "# Indexes row 0, all columns (returns 1x4)\n"
   ]
  },
  {
   "cell_type": "code",
   "execution_count": null,
   "metadata": {
    "ExecuteTime": {
     "end_time": "2021-02-04T10:13:23.647082Z",
     "start_time": "2021-02-04T10:13:23.645056Z"
    }
   },
   "outputs": [],
   "source": [
    "# Add a random tensor of size 2x4 to m\n"
   ]
  },
  {
   "cell_type": "code",
   "execution_count": null,
   "metadata": {
    "ExecuteTime": {
     "end_time": "2021-02-04T10:13:23.759528Z",
     "start_time": "2021-02-04T10:13:23.757349Z"
    }
   },
   "outputs": [],
   "source": [
    "# Subtract a random tensor of size 2x4 to m\n"
   ]
  },
  {
   "cell_type": "code",
   "execution_count": null,
   "metadata": {
    "ExecuteTime": {
     "end_time": "2021-02-04T10:13:26.901634Z",
     "start_time": "2021-02-04T10:13:26.899288Z"
    }
   },
   "outputs": [],
   "source": [
    "# Multiply a random tensor of size 2x4 to m\n"
   ]
  },
  {
   "cell_type": "code",
   "execution_count": null,
   "metadata": {
    "ExecuteTime": {
     "end_time": "2021-02-04T10:13:30.600026Z",
     "start_time": "2021-02-04T10:13:30.597713Z"
    }
   },
   "outputs": [],
   "source": [
    "# Divide m by a random tensor of size 2x4\n"
   ]
  },
  {
   "cell_type": "code",
   "execution_count": null,
   "metadata": {
    "ExecuteTime": {
     "end_time": "2021-02-04T10:13:32.933990Z",
     "start_time": "2021-02-04T10:13:32.931707Z"
    }
   },
   "outputs": [],
   "source": [
    "# Transpose tensor m\n"
   ]
  },
  {
   "cell_type": "markdown",
   "metadata": {},
   "source": [
    "## Exercise: polynomial regression\n",
    "\n",
    "- Last week we discussed polynomial logistic regression\n",
    "- Let's work also on polynomial regression (continuous label) with a **single feature**\n",
    "- In this exercise we show how this simple model can be trained using `numpy` and your work will be to code the solution with `PyTorch` "
   ]
  },
  {
   "cell_type": "code",
   "execution_count": null,
   "metadata": {
    "ExecuteTime": {
     "end_time": "2021-02-08T15:45:13.437822Z",
     "start_time": "2021-02-08T15:45:12.530870Z"
    }
   },
   "outputs": [],
   "source": [
    "from matplotlib import pyplot as plt\n",
    "%matplotlib inline\n",
    "from sklearn.preprocessing import PolynomialFeatures"
   ]
  },
  {
   "cell_type": "code",
   "execution_count": null,
   "metadata": {
    "ExecuteTime": {
     "end_time": "2021-02-08T15:45:13.826986Z",
     "start_time": "2021-02-08T15:45:13.439451Z"
    },
    "scrolled": true
   },
   "outputs": [],
   "source": [
    "def true_f(x):\n",
    "    return 0.1 * (x-2) ** 3 + x ** 2 - 8.0 * x - 1.0\n",
    "\n",
    "def generate(n_samples):\n",
    "    X = np.random.rand(n_samples) * 20.0 - 10.0\n",
    "    y = true_f(X) + 5 * np.random.randn(n_samples)\n",
    "    \n",
    "    return X.reshape(n_samples, 1), y\n",
    "\n",
    "X_train, y_train = generate(15)\n",
    "xs = np.linspace(-10, 10, num=1000)\n",
    "plt.plot(xs, true_f(xs), c=\"r\", label=\"$g(x)$\", lw=3)\n",
    "plt.scatter(X_train, y_train, label=\"$y = g(x) + \\epsilon$\")\n",
    "plt.legend(loc='upper left', fontsize=13)\n",
    "plt.grid(color=\"grey\")"
   ]
  },
  {
   "cell_type": "code",
   "execution_count": null,
   "metadata": {
    "ExecuteTime": {
     "end_time": "2021-02-08T15:46:36.877845Z",
     "start_time": "2021-02-08T15:46:36.873664Z"
    }
   },
   "outputs": [],
   "source": [
    "X_train"
   ]
  },
  {
   "cell_type": "code",
   "execution_count": null,
   "metadata": {
    "ExecuteTime": {
     "end_time": "2021-02-08T15:48:12.796353Z",
     "start_time": "2021-02-08T15:48:12.793955Z"
    }
   },
   "outputs": [],
   "source": [
    "def numpy_model(X, beta, poly):\n",
    "    Xp = poly.transform(X)\n",
    "    return np.dot(Xp, beta)"
   ]
  },
  {
   "cell_type": "code",
   "execution_count": null,
   "metadata": {
    "ExecuteTime": {
     "end_time": "2021-02-08T15:47:00.182271Z",
     "start_time": "2021-02-08T15:47:00.179079Z"
    }
   },
   "outputs": [],
   "source": [
    "Xp.shape"
   ]
  },
  {
   "cell_type": "code",
   "execution_count": null,
   "metadata": {
    "ExecuteTime": {
     "end_time": "2021-02-08T15:48:14.739959Z",
     "start_time": "2021-02-08T15:48:14.454461Z"
    }
   },
   "outputs": [],
   "source": [
    "poly = PolynomialFeatures(degree=3, include_bias=True)\n",
    "Xp = poly.fit_transform(X_train)\n",
    "\n",
    "# We use the analytic solution for the optimization problem. \n",
    "# Note that this is not something we usually do in machine learning, where \n",
    "#   we'd rather use an optimization algorithm\n",
    "np_beta = np.linalg.solve(Xp.T.dot(Xp), Xp.T.dot(y_train))\n",
    " # Least-squares error\n",
    "error = np.mean((y_train - numpy_model(X_train, np_beta, poly)) ** 2)\n",
    "plt.plot(xs, true_f(xs), c=\"r\", label=\"$g(x)$\")\n",
    "plt.scatter(X_train, y_train, label=\"$y = g(x) + \\epsilon$\")\n",
    "plt.plot(xs, numpy_model(xs.reshape(-1,1), np_beta, poly), c=\"b\", label=\"$\\hat{y} = f_{numpy}(x)$\")\n",
    "plt.title(\"degree = %d, $\\hat{R}(f, d) = %.2f$\" % (3, error), fontsize=15)\n",
    "plt.ylim(-40, 80)\n",
    "plt.grid()\n",
    "plt.legend(fontsize=13)\n",
    "plt.show()\n",
    "\n",
    "print(\"The error of our model is {}\".format(error))"
   ]
  },
  {
   "cell_type": "markdown",
   "metadata": {},
   "source": [
    "# PyTorch solution\n",
    "\n",
    "The solutons consists of 2 easy steps:\n",
    "\n",
    "* create a function similar to the model one which does the required computations in PyTorch instead of Numpy.\n",
    "* Solve the optimization problem by using the 2D tensor operations we have seen before. Some of these operations require some basic transformations between Numpy arrays and PyTorch tensors."
   ]
  },
  {
   "cell_type": "code",
   "execution_count": null,
   "metadata": {
    "ExecuteTime": {
     "end_time": "2021-02-04T10:14:01.379535Z",
     "start_time": "2021-02-04T10:14:01.377068Z"
    },
    "scrolled": false
   },
   "outputs": [],
   "source": [
    "# Your code here\n"
   ]
  },
  {
   "cell_type": "markdown",
   "metadata": {},
   "source": [
    "Of course, you should get the exact same solutions"
   ]
  },
  {
   "cell_type": "code",
   "execution_count": null,
   "metadata": {},
   "outputs": [],
   "source": []
  }
 ],
 "metadata": {
  "kernelspec": {
   "display_name": "Python 3",
   "language": "python",
   "name": "python3"
  },
  "language_info": {
   "codemirror_mode": {
    "name": "ipython",
    "version": 3
   },
   "file_extension": ".py",
   "mimetype": "text/x-python",
   "name": "python",
   "nbconvert_exporter": "python",
   "pygments_lexer": "ipython3",
   "version": "3.7.9"
  },
  "toc": {
   "base_numbering": 1,
   "nav_menu": {},
   "number_sections": true,
   "sideBar": true,
   "skip_h1_title": true,
   "title_cell": "Table of Contents",
   "title_sidebar": "Contents",
   "toc_cell": false,
   "toc_position": {
    "height": "calc(100% - 180px)",
    "left": "10px",
    "top": "150px",
    "width": "245.1750030517578px"
   },
   "toc_section_display": true,
   "toc_window_display": true
  }
 },
 "nbformat": 4,
 "nbformat_minor": 4
}
