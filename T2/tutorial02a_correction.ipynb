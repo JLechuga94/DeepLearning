{
 "cells": [
  {
   "cell_type": "markdown",
   "metadata": {},
   "source": [
    "# Tutorial 2a. Tensors\n",
    "\n",
    "- Tensors are one of the main ingredients when it comes to modern Deep-Learning frameworks. \n",
    "- Almost all deep learning computations can be expressed as tensor operations which make computation fast and efficient. \n",
    "- In this practical we will see how to manipulate tensors within the `PyTorch` library\n",
    "\n",
    "You'll need to install `pytorch` using `conda install torch` or `pip install torch` on your laptop"
   ]
  },
  {
   "cell_type": "code",
   "execution_count": null,
   "metadata": {
    "ExecuteTime": {
     "end_time": "2021-02-19T08:00:27.424536Z",
     "start_time": "2021-02-19T08:00:26.580275Z"
    }
   },
   "outputs": [],
   "source": [
    "import torch\n",
    "import numpy as np"
   ]
  },
  {
   "cell_type": "markdown",
   "metadata": {},
   "source": [
    "## Basics with tensors"
   ]
  },
  {
   "cell_type": "code",
   "execution_count": null,
   "metadata": {
    "ExecuteTime": {
     "end_time": "2021-02-19T08:00:27.431891Z",
     "start_time": "2021-02-19T08:00:27.426899Z"
    }
   },
   "outputs": [],
   "source": [
    "# Generate a tensor of size 2x3x4\n",
    "t = torch.Tensor(2, 3, 4)\n",
    "print(t)"
   ]
  },
  {
   "cell_type": "code",
   "execution_count": null,
   "metadata": {
    "ExecuteTime": {
     "end_time": "2021-02-19T08:00:27.442993Z",
     "start_time": "2021-02-19T08:00:27.434639Z"
    }
   },
   "outputs": [],
   "source": [
    "# Get the type of the tensor\n",
    "t.type()"
   ]
  },
  {
   "cell_type": "code",
   "execution_count": null,
   "metadata": {
    "ExecuteTime": {
     "end_time": "2021-02-19T08:00:27.690066Z",
     "start_time": "2021-02-19T08:00:27.686526Z"
    }
   },
   "outputs": [],
   "source": [
    "# Get information about the tensor\n",
    "print(t.size())\n",
    "print(t.shape)\n",
    "print(t.numel())\n",
    "print(t.dim())"
   ]
  },
  {
   "cell_type": "code",
   "execution_count": null,
   "metadata": {
    "ExecuteTime": {
     "end_time": "2021-02-19T08:00:28.193213Z",
     "start_time": "2021-02-19T08:00:28.188923Z"
    }
   },
   "outputs": [],
   "source": [
    "# Resize the tensor\n",
    "r = torch.Tensor(t)\n",
    "r.resize_(3, 8)\n",
    "print(r)\n",
    "print(r.size())"
   ]
  },
  {
   "cell_type": "markdown",
   "metadata": {},
   "source": [
    "## Vectors (1D Tensors) and similarities with Numpy\n",
    "\n",
    "- You might have noticed some similarities between the way PyTorch deals with tensors and the way Numpy deals with arrays\n",
    "- When it comes to basic algebraic operations both libraries can indeed be very similar as shown in some of the examples below"
   ]
  },
  {
   "cell_type": "code",
   "execution_count": null,
   "metadata": {
    "ExecuteTime": {
     "end_time": "2021-02-19T08:00:28.564997Z",
     "start_time": "2021-02-19T08:00:28.561241Z"
    }
   },
   "outputs": [],
   "source": [
    "# Creates a 1D tensor of integers 1 to 4\n",
    "v = torch.Tensor([1, 2, 3, 4])\n",
    "np_v = np.array([1, 2, 3, 4])\n",
    "\n",
    "print(v)\n",
    "print(np_v)"
   ]
  },
  {
   "cell_type": "markdown",
   "metadata": {},
   "source": [
    "Note however the difference with the default `dtypes` used"
   ]
  },
  {
   "cell_type": "code",
   "execution_count": null,
   "metadata": {
    "ExecuteTime": {
     "end_time": "2021-02-19T08:00:29.200671Z",
     "start_time": "2021-02-19T08:00:29.196859Z"
    }
   },
   "outputs": [],
   "source": [
    "v.dtype, np_v.dtype"
   ]
  },
  {
   "cell_type": "code",
   "execution_count": null,
   "metadata": {
    "ExecuteTime": {
     "end_time": "2021-02-19T08:00:29.405155Z",
     "start_time": "2021-02-19T08:00:29.401487Z"
    }
   },
   "outputs": [],
   "source": [
    "# We create a second tensor with the same properties\n",
    "w = torch.Tensor([1, 0, 2, 0])\n",
    "np_w = np.array([1, 0, 2, 0])\n",
    "\n",
    "print(w)\n",
    "print(np_w)"
   ]
  },
  {
   "cell_type": "code",
   "execution_count": null,
   "metadata": {
    "ExecuteTime": {
     "end_time": "2021-02-19T08:00:29.586662Z",
     "start_time": "2021-02-19T08:00:29.583234Z"
    }
   },
   "outputs": [],
   "source": [
    "# Element-wise multiplication\n",
    "x = v * w\n",
    "np_x = np_v * np_w\n",
    "\n",
    "print(x)\n",
    "print(np_x)"
   ]
  },
  {
   "cell_type": "code",
   "execution_count": null,
   "metadata": {
    "ExecuteTime": {
     "end_time": "2021-02-19T08:00:29.773531Z",
     "start_time": "2021-02-19T08:00:29.769433Z"
    }
   },
   "outputs": [],
   "source": [
    "# Slicing: extract sub-Tensor [from:to)\n",
    "print(x[0:3])\n",
    "print(np_x[0:3])"
   ]
  },
  {
   "cell_type": "code",
   "execution_count": null,
   "metadata": {
    "ExecuteTime": {
     "end_time": "2021-02-19T08:00:29.926486Z",
     "start_time": "2021-02-19T08:00:29.922639Z"
    }
   },
   "outputs": [],
   "source": [
    "# Create a tensor with integers ranging from 1 to 5, excluding 5\n",
    "v = torch.arange(1, 4 + 1)\n",
    "np_v = np.arange(1, 5)\n",
    "print(v)\n",
    "print(np_v)"
   ]
  },
  {
   "cell_type": "code",
   "execution_count": null,
   "metadata": {
    "ExecuteTime": {
     "end_time": "2021-02-19T08:00:30.093866Z",
     "start_time": "2021-02-19T08:00:30.090576Z"
    }
   },
   "outputs": [],
   "source": [
    "# Square all elements in the tensor\n",
    "print(v ** 2)\n",
    "print(np_v ** 2)"
   ]
  },
  {
   "cell_type": "markdown",
   "metadata": {},
   "source": [
    "But also"
   ]
  },
  {
   "cell_type": "code",
   "execution_count": null,
   "metadata": {
    "ExecuteTime": {
     "end_time": "2021-02-19T08:00:30.445686Z",
     "start_time": "2021-02-19T08:00:30.441794Z"
    }
   },
   "outputs": [],
   "source": [
    "print(v.pow(2))\n",
    "print(np.power(np_v, 2))"
   ]
  },
  {
   "cell_type": "markdown",
   "metadata": {},
   "source": [
    "## Let's add one dimension: matrices (2D Tensors)"
   ]
  },
  {
   "cell_type": "code",
   "execution_count": null,
   "metadata": {
    "ExecuteTime": {
     "end_time": "2021-02-19T08:00:31.054259Z",
     "start_time": "2021-02-19T08:00:31.049185Z"
    }
   },
   "outputs": [],
   "source": [
    "# Create a 2x4 tensor\n",
    "m = torch.Tensor([[2, 5, 3, 7],\n",
    "                  [4, 2, 1, 9]])\n",
    "print(m)\n",
    "\n",
    "np_m = np.array([[2, 5, 3, 7],[4, 2, 1, 9]])\n",
    "print(np_m)"
   ]
  },
  {
   "cell_type": "code",
   "execution_count": null,
   "metadata": {
    "ExecuteTime": {
     "end_time": "2021-02-19T08:00:31.209606Z",
     "start_time": "2021-02-19T08:00:31.206709Z"
    }
   },
   "outputs": [],
   "source": [
    "# Get the shape of the tensor\n",
    "print(m.size())\n",
    "print(np_m.shape)"
   ]
  },
  {
   "cell_type": "code",
   "execution_count": null,
   "metadata": {
    "ExecuteTime": {
     "end_time": "2021-02-19T08:00:31.586631Z",
     "start_time": "2021-02-19T08:00:31.581768Z"
    }
   },
   "outputs": [],
   "source": [
    "# Indexing row 0, column 2 (0-indexed)\n",
    "m[0, 2]"
   ]
  },
  {
   "cell_type": "code",
   "execution_count": null,
   "metadata": {
    "ExecuteTime": {
     "end_time": "2021-02-19T08:00:32.115699Z",
     "start_time": "2021-02-19T08:00:32.111382Z"
    }
   },
   "outputs": [],
   "source": [
    "# Indexing column 1, all rows (returns size 2)\n",
    "\n",
    "m[:, 1]"
   ]
  },
  {
   "cell_type": "markdown",
   "metadata": {},
   "source": [
    "## Some easy exercises: tensor Operations\n",
    "\n",
    "It is now up to you to get familiar with some basic tensor operations in PyTorch."
   ]
  },
  {
   "cell_type": "code",
   "execution_count": null,
   "metadata": {
    "ExecuteTime": {
     "end_time": "2021-02-19T08:00:32.644610Z",
     "start_time": "2021-02-19T08:00:32.640694Z"
    }
   },
   "outputs": [],
   "source": [
    "m.dtype"
   ]
  },
  {
   "cell_type": "code",
   "execution_count": null,
   "metadata": {
    "ExecuteTime": {
     "end_time": "2021-02-19T08:00:32.960081Z",
     "start_time": "2021-02-19T08:00:32.956417Z"
    }
   },
   "outputs": [],
   "source": [
    "torch.Tensor()"
   ]
  },
  {
   "cell_type": "code",
   "execution_count": null,
   "metadata": {
    "ExecuteTime": {
     "end_time": "2021-02-19T08:00:33.328765Z",
     "start_time": "2021-02-19T08:00:33.324288Z"
    }
   },
   "outputs": [],
   "source": [
    "# Indexing column 1, all rows (returns size 2x1, not 2)\n",
    "\n",
    "m[:, [1]]"
   ]
  },
  {
   "cell_type": "code",
   "execution_count": null,
   "metadata": {
    "ExecuteTime": {
     "end_time": "2021-02-19T08:00:33.731173Z",
     "start_time": "2021-02-19T08:00:33.726933Z"
    }
   },
   "outputs": [],
   "source": [
    "# Indexes row 0, all columns (returns 1x4)\n",
    "\n",
    "m[[0], :]"
   ]
  },
  {
   "cell_type": "code",
   "execution_count": null,
   "metadata": {
    "ExecuteTime": {
     "end_time": "2021-02-19T08:00:33.913221Z",
     "start_time": "2021-02-19T08:00:33.908737Z"
    }
   },
   "outputs": [],
   "source": [
    "# Add a random tensor of size 2x4 to m\n",
    "\n",
    "m + torch.rand(2, 4)"
   ]
  },
  {
   "cell_type": "code",
   "execution_count": null,
   "metadata": {
    "ExecuteTime": {
     "end_time": "2021-02-19T08:00:34.080513Z",
     "start_time": "2021-02-19T08:00:34.075898Z"
    }
   },
   "outputs": [],
   "source": [
    "# Subtract a random tensor of size 2x4 to m\n",
    "\n",
    "m - torch.rand(2, 4)"
   ]
  },
  {
   "cell_type": "code",
   "execution_count": null,
   "metadata": {
    "ExecuteTime": {
     "end_time": "2021-02-19T08:00:34.256088Z",
     "start_time": "2021-02-19T08:00:34.251672Z"
    }
   },
   "outputs": [],
   "source": [
    "# Multiply a random tensor of size 2x4 to m\n",
    "\n",
    "m * torch.rand(2, 4)"
   ]
  },
  {
   "cell_type": "code",
   "execution_count": null,
   "metadata": {
    "ExecuteTime": {
     "end_time": "2021-02-19T08:00:34.390635Z",
     "start_time": "2021-02-19T08:00:34.386344Z"
    }
   },
   "outputs": [],
   "source": [
    "# Divide m by a random tensor of size 2x4\n",
    "\n",
    "m / torch.rand(2, 4)"
   ]
  },
  {
   "cell_type": "code",
   "execution_count": null,
   "metadata": {
    "ExecuteTime": {
     "end_time": "2021-02-19T08:00:34.578612Z",
     "start_time": "2021-02-19T08:00:34.574622Z"
    }
   },
   "outputs": [],
   "source": [
    "# Transpose tensor m\n",
    "\n",
    "m.t()"
   ]
  },
  {
   "cell_type": "markdown",
   "metadata": {},
   "source": [
    "## Exercise: polynomial regression\n",
    "\n",
    "- Last week we discussed polynomial logistic regression\n",
    "- Let's work also on polynomial regression (continuous label) with a **single feature**\n",
    "- In this exercise we show how this simple model can be trained using `numpy` and your work will be to code the solution with `PyTorch` "
   ]
  },
  {
   "cell_type": "code",
   "execution_count": null,
   "metadata": {
    "ExecuteTime": {
     "end_time": "2021-02-19T08:00:36.640333Z",
     "start_time": "2021-02-19T08:00:35.316709Z"
    }
   },
   "outputs": [],
   "source": [
    "from matplotlib import pyplot as plt\n",
    "%matplotlib inline\n",
    "from sklearn.preprocessing import PolynomialFeatures"
   ]
  },
  {
   "cell_type": "code",
   "execution_count": null,
   "metadata": {
    "ExecuteTime": {
     "end_time": "2021-02-19T08:00:36.971992Z",
     "start_time": "2021-02-19T08:00:36.642173Z"
    },
    "scrolled": true
   },
   "outputs": [],
   "source": [
    "def true_f(x):\n",
    "    return 0.1 * (x-2) ** 3 + x ** 2 - 8.0 * x - 1.0\n",
    "\n",
    "def generate(n_samples):\n",
    "    X = np.random.rand(n_samples) * 20.0 - 10.0\n",
    "    y = true_f(X) + 5 * np.random.randn(n_samples)\n",
    "    \n",
    "    return X.reshape(n_samples, 1), y\n",
    "\n",
    "X_train, y_train = generate(15)\n",
    "xs = np.linspace(-10, 10, num=1000)\n",
    "plt.plot(xs, true_f(xs), c=\"r\", label=\"$g(x)$\", lw=3)\n",
    "plt.scatter(X_train, y_train, label=\"$y = g(x) + \\epsilon$\")\n",
    "plt.legend(loc='upper left', fontsize=13)\n",
    "plt.grid(color=\"grey\")"
   ]
  },
  {
   "cell_type": "code",
   "execution_count": null,
   "metadata": {
    "ExecuteTime": {
     "end_time": "2021-02-19T08:00:37.229047Z",
     "start_time": "2021-02-19T08:00:37.226230Z"
    }
   },
   "outputs": [],
   "source": [
    "def numpy_model(X, beta, poly):\n",
    "    Xp = poly.transform(X)\n",
    "    return np.dot(Xp, beta)"
   ]
  },
  {
   "cell_type": "code",
   "execution_count": null,
   "metadata": {
    "ExecuteTime": {
     "end_time": "2021-02-19T08:00:43.347353Z",
     "start_time": "2021-02-19T08:00:43.015388Z"
    }
   },
   "outputs": [],
   "source": [
    "poly = PolynomialFeatures(degree=3, include_bias=True)\n",
    "Xp = poly.fit_transform(X_train)\n",
    "\n",
    "# We use the analytic solution for the optimization problem. \n",
    "# Note that this is not something we usually do in machine learning, where \n",
    "#   we'd rather use an optimization algorithm\n",
    "np_beta = np.linalg.solve(Xp.T.dot(Xp), Xp.T.dot(y_train))\n",
    " # Least-squares error\n",
    "error = np.mean((y_train - numpy_model(X_train, np_beta, poly)) ** 2)\n",
    "plt.plot(xs, true_f(xs), c=\"r\", label=\"$g(x)$\")\n",
    "plt.scatter(X_train, y_train, label=\"$y = g(x) + \\epsilon$\")\n",
    "plt.plot(xs, numpy_model(xs.reshape(-1,1), np_beta, poly), c=\"b\", label=\"$\\hat{y} = f_{numpy}(x)$\")\n",
    "plt.title(\"degree = %d, $\\hat{R}(f, d) = %.2f$\" % (3, error), fontsize=15)\n",
    "plt.ylim(-40, 80)\n",
    "plt.grid()\n",
    "plt.legend(fontsize=13)\n",
    "plt.show()\n",
    "\n",
    "print(\"The error of our model is {}\".format(error))"
   ]
  },
  {
   "cell_type": "markdown",
   "metadata": {},
   "source": [
    "# PyTorch solution\n",
    "\n",
    "The solutons consists of 2 easy steps:\n",
    "\n",
    "* create a function similar to the model one which does the required computations in PyTorch instead of Numpy.\n",
    "* Solve the optimization problem by using the 2D tensor operations we have seen before. Some of these operations require some basic transformations between Numpy arrays and PyTorch tensors."
   ]
  },
  {
   "cell_type": "code",
   "execution_count": null,
   "metadata": {
    "ExecuteTime": {
     "end_time": "2021-02-19T08:00:45.822511Z",
     "start_time": "2021-02-19T08:00:45.819530Z"
    }
   },
   "outputs": [],
   "source": [
    "def pytorch_model(X, beta, poly):\n",
    "    Xp = poly.transform(X)    \n",
    "    return torch.matmul(torch.from_numpy(Xp), beta)"
   ]
  },
  {
   "cell_type": "code",
   "execution_count": null,
   "metadata": {
    "ExecuteTime": {
     "end_time": "2021-02-19T08:00:46.223506Z",
     "start_time": "2021-02-19T08:00:46.220450Z"
    }
   },
   "outputs": [],
   "source": [
    "poly = PolynomialFeatures(degree=3, include_bias=True)\n",
    "\n",
    "Xp = poly.fit_transform(X_train)\n",
    "Xpt = torch.from_numpy(Xp)"
   ]
  },
  {
   "cell_type": "code",
   "execution_count": null,
   "metadata": {
    "ExecuteTime": {
     "end_time": "2021-02-19T08:00:46.613059Z",
     "start_time": "2021-02-19T08:00:46.609014Z"
    },
    "scrolled": true
   },
   "outputs": [],
   "source": [
    "XtX = torch.matmul(Xpt.t(), Xpt)\n",
    "Xty = torch.matmul(Xpt.t(), torch.from_numpy(y_train))\n",
    "Xty = Xty.reshape(*Xty.shape, 1)\n",
    "pt_beta, _ = torch.solve(Xty, XtX)"
   ]
  },
  {
   "cell_type": "code",
   "execution_count": null,
   "metadata": {
    "ExecuteTime": {
     "end_time": "2021-02-19T08:00:47.139965Z",
     "start_time": "2021-02-19T08:00:47.135669Z"
    },
    "scrolled": true
   },
   "outputs": [],
   "source": [
    "pt_beta"
   ]
  },
  {
   "cell_type": "code",
   "execution_count": null,
   "metadata": {
    "ExecuteTime": {
     "end_time": "2021-02-19T08:00:47.590604Z",
     "start_time": "2021-02-19T08:00:47.585499Z"
    },
    "scrolled": true
   },
   "outputs": [],
   "source": [
    "pt_beta - np_beta"
   ]
  },
  {
   "cell_type": "markdown",
   "metadata": {
    "ExecuteTime": {
     "end_time": "2021-02-19T08:01:12.604767Z",
     "start_time": "2021-02-19T08:01:12.600350Z"
    }
   },
   "source": [
    "Of course, we get the exact same solutions"
   ]
  },
  {
   "cell_type": "code",
   "execution_count": null,
   "metadata": {
    "ExecuteTime": {
     "end_time": "2021-02-19T08:00:48.383165Z",
     "start_time": "2021-02-19T08:00:48.378392Z"
    },
    "scrolled": false
   },
   "outputs": [],
   "source": [
    "pytorch_model(X_train, pt_beta, poly)"
   ]
  }
 ],
 "metadata": {
  "kernelspec": {
   "display_name": "Python 3",
   "language": "python",
   "name": "python3"
  },
  "language_info": {
   "codemirror_mode": {
    "name": "ipython",
    "version": 3
   },
   "file_extension": ".py",
   "mimetype": "text/x-python",
   "name": "python",
   "nbconvert_exporter": "python",
   "pygments_lexer": "ipython3",
   "version": "3.7.9"
  },
  "toc": {
   "base_numbering": 1,
   "nav_menu": {},
   "number_sections": true,
   "sideBar": true,
   "skip_h1_title": true,
   "title_cell": "Table of Contents",
   "title_sidebar": "Contents",
   "toc_cell": false,
   "toc_position": {
    "height": "calc(100% - 180px)",
    "left": "10px",
    "top": "150px",
    "width": "326.98370361328125px"
   },
   "toc_section_display": true,
   "toc_window_display": true
  }
 },
 "nbformat": 4,
 "nbformat_minor": 4
}
