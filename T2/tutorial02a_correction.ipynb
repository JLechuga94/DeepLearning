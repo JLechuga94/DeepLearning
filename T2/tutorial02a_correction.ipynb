{
 "cells": [
  {
   "cell_type": "markdown",
   "metadata": {},
   "source": [
    "# Tutorial 2a. Tensors\n",
    "\n",
    "- Tensors are one of the main ingredients when it comes to modern Deep-Learning frameworks. \n",
    "- Almost all deep learning computations can be expressed as tensor operations which make computation fast and efficient. \n",
    "- In this practical we will see how to manipulate tensors within the `PyTorch` library\n",
    "\n",
    "You'll need to install `pytorch` using `conda install torch` or `pip install torch` on your laptop"
   ]
  },
  {
   "cell_type": "code",
   "execution_count": 2,
   "metadata": {
    "ExecuteTime": {
     "end_time": "2021-02-19T08:00:27.424536Z",
     "start_time": "2021-02-19T08:00:26.580275Z"
    }
   },
   "outputs": [],
   "source": [
    "import torch\n",
    "import numpy as np"
   ]
  },
  {
   "cell_type": "markdown",
   "metadata": {},
   "source": [
    "## Basics with tensors"
   ]
  },
  {
   "cell_type": "code",
   "execution_count": 3,
   "metadata": {
    "ExecuteTime": {
     "end_time": "2021-02-19T08:00:27.431891Z",
     "start_time": "2021-02-19T08:00:27.426899Z"
    }
   },
   "outputs": [
    {
     "name": "stdout",
     "output_type": "stream",
     "text": [
      "tensor([[[-7.0111e+19,  4.5744e-41,  1.5414e-44,  4.1878e-38],\n",
      "         [ 0.0000e+00,  0.0000e+00,  1.1210e-44,  0.0000e+00],\n",
      "         [ 0.0000e+00,  4.1880e-38,  1.1097e-35,  1.6826e-37]],\n",
      "\n",
      "        [[ 6.7011e-37,  3.7813e+00,  2.6805e-36,  4.7757e-38],\n",
      "         [ 4.2886e-35,  2.8532e-33,  9.5190e-41,  1.7154e-34],\n",
      "         [ 4.5652e-32,  1.8261e-31,  7.3046e-31,  2.9219e-30]]])\n"
     ]
    }
   ],
   "source": [
    "# Generate a tensor of size 2x3x4\n",
    "t = torch.Tensor(2, 3, 4)\n",
    "print(t)"
   ]
  },
  {
   "cell_type": "code",
   "execution_count": 4,
   "metadata": {
    "ExecuteTime": {
     "end_time": "2021-02-19T08:00:27.442993Z",
     "start_time": "2021-02-19T08:00:27.434639Z"
    }
   },
   "outputs": [
    {
     "data": {
      "text/plain": [
       "'torch.FloatTensor'"
      ]
     },
     "execution_count": 4,
     "metadata": {},
     "output_type": "execute_result"
    }
   ],
   "source": [
    "# Get the type of the tensor\n",
    "t.type()"
   ]
  },
  {
   "cell_type": "code",
   "execution_count": 5,
   "metadata": {
    "ExecuteTime": {
     "end_time": "2021-02-19T08:00:27.690066Z",
     "start_time": "2021-02-19T08:00:27.686526Z"
    }
   },
   "outputs": [
    {
     "name": "stdout",
     "output_type": "stream",
     "text": [
      "torch.Size([2, 3, 4])\n",
      "torch.Size([2, 3, 4])\n",
      "24\n",
      "3\n"
     ]
    }
   ],
   "source": [
    "# Get information about the tensor\n",
    "print(t.size())\n",
    "print(t.shape)\n",
    "print(t.numel())\n",
    "print(t.dim())"
   ]
  },
  {
   "cell_type": "code",
   "execution_count": 6,
   "metadata": {
    "ExecuteTime": {
     "end_time": "2021-02-19T08:00:28.193213Z",
     "start_time": "2021-02-19T08:00:28.188923Z"
    }
   },
   "outputs": [
    {
     "name": "stdout",
     "output_type": "stream",
     "text": [
      "tensor([[-7.0111e+19,  4.5744e-41,  1.5414e-44,  4.1878e-38,  0.0000e+00,\n",
      "          0.0000e+00,  1.1210e-44,  0.0000e+00],\n",
      "        [ 0.0000e+00,  4.1880e-38,  1.1097e-35,  1.6826e-37,  6.7011e-37,\n",
      "          3.7813e+00,  2.6805e-36,  4.7757e-38],\n",
      "        [ 4.2886e-35,  2.8532e-33,  9.5190e-41,  1.7154e-34,  4.5652e-32,\n",
      "          1.8261e-31,  7.3046e-31,  2.9219e-30]])\n",
      "torch.Size([3, 8])\n"
     ]
    }
   ],
   "source": [
    "# Resize the tensor\n",
    "r = torch.Tensor(t)\n",
    "r.resize_(3, 8)\n",
    "print(r)\n",
    "print(r.size())"
   ]
  },
  {
   "cell_type": "markdown",
   "metadata": {},
   "source": [
    "## Vectors (1D Tensors) and similarities with Numpy\n",
    "\n",
    "- You might have noticed some similarities between the way PyTorch deals with tensors and the way Numpy deals with arrays\n",
    "- When it comes to basic algebraic operations both libraries can indeed be very similar as shown in some of the examples below"
   ]
  },
  {
   "cell_type": "code",
   "execution_count": 7,
   "metadata": {
    "ExecuteTime": {
     "end_time": "2021-02-19T08:00:28.564997Z",
     "start_time": "2021-02-19T08:00:28.561241Z"
    }
   },
   "outputs": [
    {
     "name": "stdout",
     "output_type": "stream",
     "text": [
      "tensor([1., 2., 3., 4.])\n",
      "[1 2 3 4]\n"
     ]
    }
   ],
   "source": [
    "# Creates a 1D tensor of integers 1 to 4\n",
    "v = torch.Tensor([1, 2, 3, 4])\n",
    "np_v = np.array([1, 2, 3, 4])\n",
    "\n",
    "print(v)\n",
    "print(np_v)"
   ]
  },
  {
   "cell_type": "markdown",
   "metadata": {},
   "source": [
    "Note however the difference with the default `dtypes` used"
   ]
  },
  {
   "cell_type": "code",
   "execution_count": 8,
   "metadata": {
    "ExecuteTime": {
     "end_time": "2021-02-19T08:00:29.200671Z",
     "start_time": "2021-02-19T08:00:29.196859Z"
    }
   },
   "outputs": [
    {
     "data": {
      "text/plain": [
       "(torch.float32, dtype('int64'))"
      ]
     },
     "execution_count": 8,
     "metadata": {},
     "output_type": "execute_result"
    }
   ],
   "source": [
    "v.dtype, np_v.dtype"
   ]
  },
  {
   "cell_type": "code",
   "execution_count": 9,
   "metadata": {
    "ExecuteTime": {
     "end_time": "2021-02-19T08:00:29.405155Z",
     "start_time": "2021-02-19T08:00:29.401487Z"
    }
   },
   "outputs": [
    {
     "name": "stdout",
     "output_type": "stream",
     "text": [
      "tensor([1., 0., 2., 0.])\n",
      "[1 0 2 0]\n"
     ]
    }
   ],
   "source": [
    "# We create a second tensor with the same properties\n",
    "w = torch.Tensor([1, 0, 2, 0])\n",
    "np_w = np.array([1, 0, 2, 0])\n",
    "\n",
    "print(w)\n",
    "print(np_w)"
   ]
  },
  {
   "cell_type": "code",
   "execution_count": 10,
   "metadata": {
    "ExecuteTime": {
     "end_time": "2021-02-19T08:00:29.586662Z",
     "start_time": "2021-02-19T08:00:29.583234Z"
    }
   },
   "outputs": [
    {
     "name": "stdout",
     "output_type": "stream",
     "text": [
      "tensor([1., 0., 6., 0.])\n",
      "[1 0 6 0]\n"
     ]
    }
   ],
   "source": [
    "# Element-wise multiplication\n",
    "x = v * w\n",
    "np_x = np_v * np_w\n",
    "\n",
    "print(x)\n",
    "print(np_x)"
   ]
  },
  {
   "cell_type": "code",
   "execution_count": 11,
   "metadata": {
    "ExecuteTime": {
     "end_time": "2021-02-19T08:00:29.773531Z",
     "start_time": "2021-02-19T08:00:29.769433Z"
    }
   },
   "outputs": [
    {
     "name": "stdout",
     "output_type": "stream",
     "text": [
      "tensor([1., 0., 6.])\n",
      "[1 0 6]\n"
     ]
    }
   ],
   "source": [
    "# Slicing: extract sub-Tensor [from:to)\n",
    "print(x[0:3])\n",
    "print(np_x[0:3])"
   ]
  },
  {
   "cell_type": "code",
   "execution_count": 12,
   "metadata": {
    "ExecuteTime": {
     "end_time": "2021-02-19T08:00:29.926486Z",
     "start_time": "2021-02-19T08:00:29.922639Z"
    }
   },
   "outputs": [
    {
     "name": "stdout",
     "output_type": "stream",
     "text": [
      "tensor([1, 2, 3, 4])\n",
      "[1 2 3 4]\n"
     ]
    }
   ],
   "source": [
    "# Create a tensor with integers ranging from 1 to 5, excluding 5\n",
    "v = torch.arange(1, 4 + 1)\n",
    "np_v = np.arange(1, 5)\n",
    "print(v)\n",
    "print(np_v)"
   ]
  },
  {
   "cell_type": "code",
   "execution_count": 13,
   "metadata": {
    "ExecuteTime": {
     "end_time": "2021-02-19T08:00:30.093866Z",
     "start_time": "2021-02-19T08:00:30.090576Z"
    }
   },
   "outputs": [
    {
     "name": "stdout",
     "output_type": "stream",
     "text": [
      "tensor([ 1,  4,  9, 16])\n",
      "[ 1  4  9 16]\n"
     ]
    }
   ],
   "source": [
    "# Square all elements in the tensor\n",
    "print(v ** 2)\n",
    "print(np_v ** 2)"
   ]
  },
  {
   "cell_type": "markdown",
   "metadata": {},
   "source": [
    "But also"
   ]
  },
  {
   "cell_type": "code",
   "execution_count": 14,
   "metadata": {
    "ExecuteTime": {
     "end_time": "2021-02-19T08:00:30.445686Z",
     "start_time": "2021-02-19T08:00:30.441794Z"
    }
   },
   "outputs": [
    {
     "name": "stdout",
     "output_type": "stream",
     "text": [
      "tensor([ 1,  4,  9, 16])\n",
      "[ 1  4  9 16]\n"
     ]
    }
   ],
   "source": [
    "print(v.pow(2))\n",
    "print(np.power(np_v, 2))"
   ]
  },
  {
   "cell_type": "markdown",
   "metadata": {},
   "source": [
    "## Let's add one dimension: matrices (2D Tensors)"
   ]
  },
  {
   "cell_type": "code",
   "execution_count": 15,
   "metadata": {
    "ExecuteTime": {
     "end_time": "2021-02-19T08:00:31.054259Z",
     "start_time": "2021-02-19T08:00:31.049185Z"
    }
   },
   "outputs": [
    {
     "name": "stdout",
     "output_type": "stream",
     "text": [
      "tensor([[2., 5., 3., 7.],\n",
      "        [4., 2., 1., 9.]])\n",
      "[[2 5 3 7]\n",
      " [4 2 1 9]]\n"
     ]
    }
   ],
   "source": [
    "# Create a 2x4 tensor\n",
    "m = torch.Tensor([[2, 5, 3, 7],\n",
    "                  [4, 2, 1, 9]])\n",
    "print(m)\n",
    "\n",
    "np_m = np.array([[2, 5, 3, 7],[4, 2, 1, 9]])\n",
    "print(np_m)"
   ]
  },
  {
   "cell_type": "code",
   "execution_count": 16,
   "metadata": {
    "ExecuteTime": {
     "end_time": "2021-02-19T08:00:31.209606Z",
     "start_time": "2021-02-19T08:00:31.206709Z"
    }
   },
   "outputs": [
    {
     "name": "stdout",
     "output_type": "stream",
     "text": [
      "torch.Size([2, 4])\n",
      "(2, 4)\n"
     ]
    }
   ],
   "source": [
    "# Get the shape of the tensor\n",
    "print(m.size())\n",
    "print(np_m.shape)"
   ]
  },
  {
   "cell_type": "code",
   "execution_count": 17,
   "metadata": {
    "ExecuteTime": {
     "end_time": "2021-02-19T08:00:31.586631Z",
     "start_time": "2021-02-19T08:00:31.581768Z"
    }
   },
   "outputs": [
    {
     "data": {
      "text/plain": [
       "tensor(3.)"
      ]
     },
     "execution_count": 17,
     "metadata": {},
     "output_type": "execute_result"
    }
   ],
   "source": [
    "# Indexing row 0, column 2 (0-indexed)\n",
    "m[0, 2]"
   ]
  },
  {
   "cell_type": "code",
   "execution_count": 18,
   "metadata": {
    "ExecuteTime": {
     "end_time": "2021-02-19T08:00:32.115699Z",
     "start_time": "2021-02-19T08:00:32.111382Z"
    }
   },
   "outputs": [
    {
     "data": {
      "text/plain": [
       "tensor([5., 2.])"
      ]
     },
     "execution_count": 18,
     "metadata": {},
     "output_type": "execute_result"
    }
   ],
   "source": [
    "# Indexing column 1, all rows (returns size 2)\n",
    "\n",
    "m[:, 1]"
   ]
  },
  {
   "cell_type": "markdown",
   "metadata": {},
   "source": [
    "## Some easy exercises: tensor Operations\n",
    "\n",
    "It is now up to you to get familiar with some basic tensor operations in PyTorch."
   ]
  },
  {
   "cell_type": "code",
   "execution_count": 19,
   "metadata": {
    "ExecuteTime": {
     "end_time": "2021-02-19T08:00:32.644610Z",
     "start_time": "2021-02-19T08:00:32.640694Z"
    }
   },
   "outputs": [
    {
     "data": {
      "text/plain": [
       "torch.float32"
      ]
     },
     "execution_count": 19,
     "metadata": {},
     "output_type": "execute_result"
    }
   ],
   "source": [
    "m.dtype"
   ]
  },
  {
   "cell_type": "code",
   "execution_count": 20,
   "metadata": {
    "ExecuteTime": {
     "end_time": "2021-02-19T08:00:32.960081Z",
     "start_time": "2021-02-19T08:00:32.956417Z"
    }
   },
   "outputs": [
    {
     "data": {
      "text/plain": [
       "tensor([])"
      ]
     },
     "execution_count": 20,
     "metadata": {},
     "output_type": "execute_result"
    }
   ],
   "source": [
    "torch.Tensor()"
   ]
  },
  {
   "cell_type": "code",
   "execution_count": 21,
   "metadata": {
    "ExecuteTime": {
     "end_time": "2021-02-19T08:00:33.328765Z",
     "start_time": "2021-02-19T08:00:33.324288Z"
    }
   },
   "outputs": [
    {
     "data": {
      "text/plain": [
       "tensor([[5.],\n",
       "        [2.]])"
      ]
     },
     "execution_count": 21,
     "metadata": {},
     "output_type": "execute_result"
    }
   ],
   "source": [
    "# Indexing column 1, all rows (returns size 2x1, not 2)\n",
    "\n",
    "m[:, [1]]"
   ]
  },
  {
   "cell_type": "code",
   "execution_count": 22,
   "metadata": {
    "ExecuteTime": {
     "end_time": "2021-02-19T08:00:33.731173Z",
     "start_time": "2021-02-19T08:00:33.726933Z"
    }
   },
   "outputs": [
    {
     "data": {
      "text/plain": [
       "tensor([[2., 5., 3., 7.]])"
      ]
     },
     "execution_count": 22,
     "metadata": {},
     "output_type": "execute_result"
    }
   ],
   "source": [
    "# Indexes row 0, all columns (returns 1x4)\n",
    "\n",
    "m[[0], :]"
   ]
  },
  {
   "cell_type": "code",
   "execution_count": 23,
   "metadata": {
    "ExecuteTime": {
     "end_time": "2021-02-19T08:00:33.913221Z",
     "start_time": "2021-02-19T08:00:33.908737Z"
    }
   },
   "outputs": [
    {
     "data": {
      "text/plain": [
       "tensor([[2.4411, 5.9791, 3.9976, 7.9205],\n",
       "        [4.1664, 2.6012, 1.3487, 9.0499]])"
      ]
     },
     "execution_count": 23,
     "metadata": {},
     "output_type": "execute_result"
    }
   ],
   "source": [
    "# Add a random tensor of size 2x4 to m\n",
    "\n",
    "m + torch.rand(2, 4)"
   ]
  },
  {
   "cell_type": "code",
   "execution_count": 24,
   "metadata": {
    "ExecuteTime": {
     "end_time": "2021-02-19T08:00:34.080513Z",
     "start_time": "2021-02-19T08:00:34.075898Z"
    }
   },
   "outputs": [
    {
     "data": {
      "text/plain": [
       "tensor([[1.4092, 4.2686, 2.1500, 6.8292],\n",
       "        [3.8568, 1.3593, 0.0381, 8.6417]])"
      ]
     },
     "execution_count": 24,
     "metadata": {},
     "output_type": "execute_result"
    }
   ],
   "source": [
    "# Subtract a random tensor of size 2x4 to m\n",
    "\n",
    "m - torch.rand(2, 4)"
   ]
  },
  {
   "cell_type": "code",
   "execution_count": 25,
   "metadata": {
    "ExecuteTime": {
     "end_time": "2021-02-19T08:00:34.256088Z",
     "start_time": "2021-02-19T08:00:34.251672Z"
    }
   },
   "outputs": [
    {
     "data": {
      "text/plain": [
       "tensor([[0.1380, 3.1732, 0.0588, 6.5105],\n",
       "        [1.8228, 0.3364, 0.8150, 3.5823]])"
      ]
     },
     "execution_count": 25,
     "metadata": {},
     "output_type": "execute_result"
    }
   ],
   "source": [
    "# Multiply a random tensor of size 2x4 to m\n",
    "\n",
    "m * torch.rand(2, 4)"
   ]
  },
  {
   "cell_type": "code",
   "execution_count": 26,
   "metadata": {
    "ExecuteTime": {
     "end_time": "2021-02-19T08:00:34.390635Z",
     "start_time": "2021-02-19T08:00:34.386344Z"
    }
   },
   "outputs": [
    {
     "data": {
      "text/plain": [
       "tensor([[  2.8657,  43.9122,  36.2250, 216.4942],\n",
       "        [ 13.6966,   3.5158,   1.0701,   9.7605]])"
      ]
     },
     "execution_count": 26,
     "metadata": {},
     "output_type": "execute_result"
    }
   ],
   "source": [
    "# Divide m by a random tensor of size 2x4\n",
    "\n",
    "m / torch.rand(2, 4)"
   ]
  },
  {
   "cell_type": "code",
   "execution_count": 29,
   "metadata": {
    "ExecuteTime": {
     "end_time": "2021-02-19T08:00:34.578612Z",
     "start_time": "2021-02-19T08:00:34.574622Z"
    }
   },
   "outputs": [
    {
     "data": {
      "text/plain": [
       "tensor([[2., 4.],\n",
       "        [5., 2.],\n",
       "        [3., 1.],\n",
       "        [7., 9.]])"
      ]
     },
     "execution_count": 29,
     "metadata": {},
     "output_type": "execute_result"
    }
   ],
   "source": [
    "# Transpose tensor m\n",
    "\n",
    "m.t()"
   ]
  },
  {
   "cell_type": "markdown",
   "metadata": {},
   "source": [
    "## Exercise: polynomial regression\n",
    "\n",
    "- Last week we discussed polynomial logistic regression\n",
    "- Let's work also on polynomial regression (continuous label) with a **single feature**\n",
    "- In this exercise we show how this simple model can be trained using `numpy` and your work will be to code the solution with `PyTorch` "
   ]
  },
  {
   "cell_type": "code",
   "execution_count": null,
   "metadata": {
    "ExecuteTime": {
     "end_time": "2021-02-19T08:00:36.640333Z",
     "start_time": "2021-02-19T08:00:35.316709Z"
    }
   },
   "outputs": [],
   "source": [
    "from matplotlib import pyplot as plt\n",
    "%matplotlib inline\n",
    "from sklearn.preprocessing import PolynomialFeatures"
   ]
  },
  {
   "cell_type": "code",
   "execution_count": null,
   "metadata": {
    "ExecuteTime": {
     "end_time": "2021-02-19T08:00:36.971992Z",
     "start_time": "2021-02-19T08:00:36.642173Z"
    },
    "scrolled": true
   },
   "outputs": [],
   "source": [
    "def true_f(x):\n",
    "    return 0.1 * (x-2) ** 3 + x ** 2 - 8.0 * x - 1.0\n",
    "\n",
    "def generate(n_samples):\n",
    "    X = np.random.rand(n_samples) * 20.0 - 10.0\n",
    "    y = true_f(X) + 5 * np.random.randn(n_samples)\n",
    "    \n",
    "    return X.reshape(n_samples, 1), y\n",
    "\n",
    "X_train, y_train = generate(15)\n",
    "xs = np.linspace(-10, 10, num=1000)\n",
    "plt.plot(xs, true_f(xs), c=\"r\", label=\"$g(x)$\", lw=3)\n",
    "plt.scatter(X_train, y_train, label=\"$y = g(x) + \\epsilon$\")\n",
    "plt.legend(loc='upper left', fontsize=13)\n",
    "plt.grid(color=\"grey\")"
   ]
  },
  {
   "cell_type": "code",
   "execution_count": null,
   "metadata": {
    "ExecuteTime": {
     "end_time": "2021-02-19T08:00:37.229047Z",
     "start_time": "2021-02-19T08:00:37.226230Z"
    }
   },
   "outputs": [],
   "source": [
    "def numpy_model(X, beta, poly):\n",
    "    Xp = poly.transform(X)\n",
    "    return np.dot(Xp, beta)"
   ]
  },
  {
   "cell_type": "code",
   "execution_count": null,
   "metadata": {
    "ExecuteTime": {
     "end_time": "2021-02-19T08:00:43.347353Z",
     "start_time": "2021-02-19T08:00:43.015388Z"
    }
   },
   "outputs": [],
   "source": [
    "poly = PolynomialFeatures(degree=3, include_bias=True)\n",
    "Xp = poly.fit_transform(X_train)\n",
    "\n",
    "# We use the analytic solution for the optimization problem. \n",
    "# Note that this is not something we usually do in machine learning, where \n",
    "#   we'd rather use an optimization algorithm\n",
    "np_beta = np.linalg.solve(Xp.T.dot(Xp), Xp.T.dot(y_train))\n",
    " # Least-squares error\n",
    "error = np.mean((y_train - numpy_model(X_train, np_beta, poly)) ** 2)\n",
    "plt.plot(xs, true_f(xs), c=\"r\", label=\"$g(x)$\")\n",
    "plt.scatter(X_train, y_train, label=\"$y = g(x) + \\epsilon$\")\n",
    "plt.plot(xs, numpy_model(xs.reshape(-1,1), np_beta, poly), c=\"b\", label=\"$\\hat{y} = f_{numpy}(x)$\")\n",
    "plt.title(\"degree = %d, $\\hat{R}(f, d) = %.2f$\" % (3, error), fontsize=15)\n",
    "plt.ylim(-40, 80)\n",
    "plt.grid()\n",
    "plt.legend(fontsize=13)\n",
    "plt.show()\n",
    "\n",
    "print(\"The error of our model is {}\".format(error))"
   ]
  },
  {
   "cell_type": "markdown",
   "metadata": {},
   "source": [
    "# PyTorch solution\n",
    "\n",
    "The solutons consists of 2 easy steps:\n",
    "\n",
    "* create a function similar to the model one which does the required computations in PyTorch instead of Numpy.\n",
    "* Solve the optimization problem by using the 2D tensor operations we have seen before. Some of these operations require some basic transformations between Numpy arrays and PyTorch tensors."
   ]
  },
  {
   "cell_type": "code",
   "execution_count": null,
   "metadata": {
    "ExecuteTime": {
     "end_time": "2021-02-19T08:00:45.822511Z",
     "start_time": "2021-02-19T08:00:45.819530Z"
    }
   },
   "outputs": [],
   "source": [
    "def pytorch_model(X, beta, poly):\n",
    "    Xp = poly.transform(X)    \n",
    "    return torch.matmul(torch.from_numpy(Xp), beta)"
   ]
  },
  {
   "cell_type": "code",
   "execution_count": null,
   "metadata": {
    "ExecuteTime": {
     "end_time": "2021-02-19T08:00:46.223506Z",
     "start_time": "2021-02-19T08:00:46.220450Z"
    }
   },
   "outputs": [],
   "source": [
    "poly = PolynomialFeatures(degree=3, include_bias=True)\n",
    "\n",
    "Xp = poly.fit_transform(X_train)\n",
    "Xpt = torch.from_numpy(Xp)"
   ]
  },
  {
   "cell_type": "code",
   "execution_count": null,
   "metadata": {
    "ExecuteTime": {
     "end_time": "2021-02-19T08:00:46.613059Z",
     "start_time": "2021-02-19T08:00:46.609014Z"
    },
    "scrolled": true
   },
   "outputs": [],
   "source": [
    "XtX = torch.matmul(Xpt.t(), Xpt)\n",
    "Xty = torch.matmul(Xpt.t(), torch.from_numpy(y_train))\n",
    "Xty = Xty.reshape(*Xty.shape, 1)\n",
    "pt_beta, _ = torch.solve(Xty, XtX)"
   ]
  },
  {
   "cell_type": "code",
   "execution_count": null,
   "metadata": {
    "ExecuteTime": {
     "end_time": "2021-02-19T08:00:47.139965Z",
     "start_time": "2021-02-19T08:00:47.135669Z"
    },
    "scrolled": true
   },
   "outputs": [],
   "source": [
    "pt_beta"
   ]
  },
  {
   "cell_type": "code",
   "execution_count": null,
   "metadata": {
    "ExecuteTime": {
     "end_time": "2021-02-19T08:00:47.590604Z",
     "start_time": "2021-02-19T08:00:47.585499Z"
    },
    "scrolled": true
   },
   "outputs": [],
   "source": [
    "pt_beta - np_beta"
   ]
  },
  {
   "cell_type": "markdown",
   "metadata": {
    "ExecuteTime": {
     "end_time": "2021-02-19T08:01:12.604767Z",
     "start_time": "2021-02-19T08:01:12.600350Z"
    }
   },
   "source": [
    "Of course, we get the exact same solutions"
   ]
  },
  {
   "cell_type": "code",
   "execution_count": null,
   "metadata": {
    "ExecuteTime": {
     "end_time": "2021-02-19T08:00:48.383165Z",
     "start_time": "2021-02-19T08:00:48.378392Z"
    },
    "scrolled": false
   },
   "outputs": [],
   "source": [
    "pytorch_model(X_train, pt_beta, poly)"
   ]
  }
 ],
 "metadata": {
  "kernelspec": {
   "display_name": "Python 3",
   "language": "python",
   "name": "python3"
  },
  "language_info": {
   "codemirror_mode": {
    "name": "ipython",
    "version": 3
   },
   "file_extension": ".py",
   "mimetype": "text/x-python",
   "name": "python",
   "nbconvert_exporter": "python",
   "pygments_lexer": "ipython3",
   "version": "3.8.5"
  },
  "toc": {
   "base_numbering": 1,
   "nav_menu": {},
   "number_sections": true,
   "sideBar": true,
   "skip_h1_title": true,
   "title_cell": "Table of Contents",
   "title_sidebar": "Contents",
   "toc_cell": false,
   "toc_position": {
    "height": "calc(100% - 180px)",
    "left": "10px",
    "top": "150px",
    "width": "326.98370361328125px"
   },
   "toc_section_display": true,
   "toc_window_display": true
  }
 },
 "nbformat": 4,
 "nbformat_minor": 4
}
