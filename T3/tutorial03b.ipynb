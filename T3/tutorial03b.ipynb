{
 "cells": [
  {
   "cell_type": "markdown",
   "metadata": {
    "colab_type": "text",
    "id": "bIAYbYajk1w9"
   },
   "source": [
    "# Tutorial 3b. Multilayer Perceptrons with Auto-differentiation!\n",
    "\n",
    "- In this tutorial you will train (again) a multilayer perceptron\n",
    "\n",
    "- But differently from what you did in `tutorial3a`, since this time, you will let the `PyTorch` library do most of the complicated work for you\n",
    "\n",
    "- The goal of this notebook is to make you get familiar with `PyTorch` and the its main concepts, that we will use repeatedly along the course.\n",
    "\n",
    "- We will be training a multilayer perceptron on the `CIFAR-10` dataset, a popular dataset of images that is used in Computer-Vision (CV) research\n",
    "\n",
    "- You will need to use a lot the documentation of `PyTorch` and look at examples for this notebook."
   ]
  },
  {
   "cell_type": "code",
   "execution_count": 1,
   "metadata": {
    "ExecuteTime": {
     "end_time": "2021-02-19T11:25:27.197652Z",
     "start_time": "2021-02-19T11:25:26.473286Z"
    },
    "colab": {
     "base_uri": "https://localhost:8080/",
     "height": 34
    },
    "colab_type": "code",
    "executionInfo": {
     "elapsed": 1060,
     "status": "ok",
     "timestamp": 1545794710219,
     "user": {
      "displayName": "Buomsoo Kim",
      "photoUrl": "",
      "userId": "18268696804115368229"
     },
     "user_tz": 420
    },
    "id": "8yy37hEYOEiQ",
    "outputId": "4434d2e8-c5e8-4dce-8316-7f9230dc1b75"
   },
   "outputs": [],
   "source": [
    "import torch, torchvision\n",
    "import shutil\n",
    "import numpy as np\n",
    "import torch.nn as nn\n",
    "from torchvision import datasets\n",
    "import torchvision.transforms as transforms\n",
    "from matplotlib import pyplot as plt \n",
    "import multiprocessing"
   ]
  },
  {
   "cell_type": "markdown",
   "metadata": {},
   "source": [
    "## Load the dataset\n",
    "\n",
    "- `PyTorch` provides popular computer vision datasets that can be easily downloaded\n",
    "- The following code will download the `CIFAR-10` dataset for us  \n",
    "- Since it is computationally expensive to load the entire dataset into memory, we will use `PyTorch`'s dataloaders  before feeding batches of images to the neural network\n",
    "\n",
    "**QUESTION.** Fill in the next cell"
   ]
  },
  {
   "cell_type": "code",
   "execution_count": 2,
   "metadata": {},
   "outputs": [
    {
     "name": "stdout",
     "output_type": "stream",
     "text": [
      "Files already downloaded and verified\n",
      "Files already downloaded and verified\n"
     ]
    }
   ],
   "source": [
    "transform = transforms.Compose(\n",
    "    [transforms.ToTensor(),\n",
    "     transforms.Normalize((0.5, 0.5, 0.5), (0.5, 0.5, 0.5))])\n",
    "\n",
    "trainset = datasets.CIFAR10(root = \"./data\", train = True, download = True, transform = transform)\n",
    "testset = datasets.CIFAR10(root = \"./data\", train = False, download = True, transform = transform)"
   ]
  },
  {
   "cell_type": "code",
   "execution_count": 3,
   "metadata": {
    "ExecuteTime": {
     "end_time": "2021-02-19T12:37:41.998615Z",
     "start_time": "2021-02-19T12:37:41.993076Z"
    },
    "colab": {
     "base_uri": "https://localhost:8080/",
     "height": 52
    },
    "colab_type": "code",
    "executionInfo": {
     "elapsed": 2530,
     "status": "ok",
     "timestamp": 1545795192346,
     "user": {
      "displayName": "Buomsoo Kim",
      "photoUrl": "",
      "userId": "18268696804115368229"
     },
     "user_tz": 420
    },
    "id": "W5anlYa01w3w",
    "outputId": "dc43d91b-ad85-423f-fb18-1a0d2af22f25",
    "scrolled": true
   },
   "outputs": [],
   "source": [
    "# Based on different papers using CIFAR-10 https://www.arxiv-vanity.com/papers/1804.07612/\n",
    "batch_size = 4\n",
    "\n",
    "# Verify how many cores the computer has and assign all of them to the task\n",
    "num_workers = multiprocessing.cpu_count()\n",
    "\n",
    "# Fill in the options for both data loaders. Warning: the training dataloader should shuffle the data\n",
    "trainloader = torch.utils.data.DataLoader(trainset, batch_size=batch_size, num_workers=num_workers, shuffle=True)\n",
    "testloader = torch.utils.data.DataLoader(testset, batch_size=batch_size, num_workers=num_workers, shuffle=True)\n",
    "\n",
    "classes = ('plane', 'car', 'bird', 'cat', 'deer', 'dog', 'frog', 'horse', 'ship', 'truck')"
   ]
  },
  {
   "cell_type": "markdown",
   "metadata": {},
   "source": [
    "## Visualize the Images of CIFAR-10\n",
    "\n",
    "* Once everything is properly loaded you should be able to visualize some of the samples of the CIFAR-10"
   ]
  },
  {
   "cell_type": "code",
   "execution_count": 4,
   "metadata": {},
   "outputs": [
    {
     "data": {
      "image/png": "[encoded data removed]",
      "text/plain": [
       "<Figure size 864x864 with 1 Axes>"
      ]
     },
     "metadata": {
      "needs_background": "light"
     },
     "output_type": "display_data"
    },
    {
     "name": "stdout",
     "output_type": "stream",
     "text": [
      " ship  bird  bird  deer\n"
     ]
    }
   ],
   "source": [
    "def show_images(img):\n",
    "    img = img / 2 + 0.5\n",
    "    npimg = img.numpy()\n",
    "    plt.figure(figsize=(12, 12))\n",
    "    plt.imshow(np.transpose(npimg, (1, 2, 0)))\n",
    "    plt.show()\n",
    "    \n",
    "dataiter = iter(trainloader)\n",
    "images, labels = dataiter.next()\n",
    "show_images(torchvision.utils.make_grid(images))\n",
    "print(' '.join('%5s' % classes[labels[j]] for j in range(batch_size)))"
   ]
  },
  {
   "cell_type": "markdown",
   "metadata": {
    "colab_type": "text",
    "id": "9nznVMdo5edZ"
   },
   "source": [
    "## Creating a MLP model and train it\n",
    "\n",
    "- We are now ready to define all the necessary hyperparameters that are required to construct a proper MLP\n",
    "- Similarly to what we did in `tutorial03a` we need to explore the data carefully in order to know how to set the following parameters\n",
    "\n",
    "### Hyperparameters"
   ]
  },
  {
   "cell_type": "markdown",
   "metadata": {},
   "source": [
    "There are many rule-of-thumb methods for determining the correct number of neurons to use in the hidden layers, such as the following:\n",
    "1. The number of hidden neurons should be between the size of the input layer and the size of the output layer.\n",
    "2. The number of hidden neurons should be 2/3 the size of the input layer, plus the size of the output layer.\n",
    "3. The number of hidden neurons should be less than twice the size of the input layer.\n",
    "\n",
    "There's a geometric pyramid rule that says that whre input has m nodes and output has n nodes, the hidden layer should have  sqrt(m∗n)"
   ]
  },
  {
   "cell_type": "code",
   "execution_count": 122,
   "metadata": {},
   "outputs": [],
   "source": [
    "input_dim = 3*32*32\n",
    "hidden_dim = 175\n",
    "output_dim = 10\n",
    "learning_rate = .05\n",
    "num_epochs = 1"
   ]
  },
  {
   "cell_type": "markdown",
   "metadata": {},
   "source": [
    "### Computation Graph\n",
    "\n",
    "- You are free to define any kind of architecture that you think is reasonable for the problem of classifying CIFAR-10 images\n",
    "- By default, you can use a multi-layer perceptron\n",
    "- The constructor of the neural network will represent the different components of the computation-graph, note that it is very similar to the way we have programmed our own neural network in `tutorial03a`.\n",
    "- You will also have to define the forward pass yourself."
   ]
  },
  {
   "cell_type": "code",
   "execution_count": 123,
   "metadata": {
    "colab": {},
    "colab_type": "code",
    "id": "AQawpMRPI7jm"
   },
   "outputs": [],
   "source": [
    "class Net(nn.Module):\n",
    "    def __init__(self, input_dim, hidden_dim, output_dim):\n",
    "        super(Net, self).__init__()\n",
    "        self.input_size = input_dim\n",
    "        self.hidden_size  = hidden_dim\n",
    "        \n",
    "        self.fc1 = torch.nn.Linear(self.input_size, self.hidden_size)\n",
    "        #self.fc2 = torch.nn.Linear(self.hidden_size, self.hidden_size)\n",
    "        #self.fc1 = torch.nn.Linear(self.hidden_size, self.hidden_size)\n",
    "        self.relu = torch.nn.ReLU()\n",
    "        self.fc2 = torch.nn.Linear(self.hidden_size, output_dim)\n",
    "        self.softmax = torch.nn.Softmax(dim=0)\n",
    "        \n",
    "    def forward(self, X):\n",
    "        X = X.view(-1, 3 * 32 * 32)\n",
    "        hidden = self.fc1(X)\n",
    "        relu = self.relu(hidden)\n",
    "        output = self.fc2(relu)\n",
    "        output = self.softmax(output)\n",
    "        return output"
   ]
  },
  {
   "cell_type": "markdown",
   "metadata": {},
   "source": [
    "### Create the Network\n",
    "\n",
    "- You are now ready to create your neural network object\n",
    "- You will also have to define an appropriate loss function to minimize and an optimization algorithm\n",
    "- By default, you can use the cross-entropy loss and the RMS prop optimizer"
   ]
  },
  {
   "cell_type": "code",
   "execution_count": 124,
   "metadata": {
    "colab": {},
    "colab_type": "code",
    "id": "cPBm8qDrSWsi"
   },
   "outputs": [],
   "source": [
    "model = Net(input_dim, hidden_dim, output_dim)\n",
    "\n",
    "# CrossEntropyLoss() for a multi-class classification problem like ours\n",
    "criterion = torch.nn.CrossEntropyLoss()\n",
    "\n",
    "optimizer = torch.optim.SGD(model.parameters(), lr = learning_rate)"
   ]
  },
  {
   "cell_type": "markdown",
   "metadata": {
    "colab": {},
    "colab_type": "code",
    "collapsed": true,
    "id": "rP0Gt5E9ajmd"
   },
   "source": [
    "### Train the Network\n",
    "\n",
    "- Once you have your neural network you just need to train it. \n",
    "- You will have to compute the output of the forward pass, compare it to your desired output and update the parameters of the network by backpropagation. \n",
    "- Fortunately this time, this only requires less than 5 lines of code in `PyTorch`"
   ]
  },
  {
   "cell_type": "code",
   "execution_count": 125,
   "metadata": {
    "colab": {
     "base_uri": "https://localhost:8080/",
     "height": 193
    },
    "colab_type": "code",
    "executionInfo": {
     "elapsed": 89814,
     "status": "ok",
     "timestamp": 1545795315447,
     "user": {
      "displayName": "Buomsoo Kim",
      "photoUrl": "",
      "userId": "18268696804115368229"
     },
     "user_tz": 420
    },
    "id": "SEBtAPYCFeic",
    "outputId": "edda354d-30d8-40cb-fef0-9c2a4fd968eb"
   },
   "outputs": [],
   "source": [
    "def train(model, optimizer, num_epochs, start_epoch, batch_size, learning_rate, trainloader, cuda):\n",
    "    accuracy, final_loss = [], []\n",
    "    # training\n",
    "    if cuda:\n",
    "        print(\"CUDA training ACTIVE\")\n",
    "        model.to(device)\n",
    "    n = 0 # the number of iterations\n",
    "    for epoch in range(start_epoch, num_epochs):\n",
    "        print(\"\\nEpoch: \", epoch)\n",
    "        running_loss = 0.0\n",
    "        \n",
    "        for i, data in enumerate(trainloader, 0):\n",
    "            # get the inputs; data is a list of [inputs, labels]\n",
    "            \n",
    "            #CUDA training\n",
    "            if cuda:\n",
    "                inputs, labels = data[0].to(device), data[1].to(device)\n",
    "            \n",
    "            inputs, labels = data\n",
    "            \n",
    "            # zero the parameter gradients\n",
    "            optimizer.zero_grad()\n",
    "\n",
    "            # forward + backward + optimize\n",
    "            outputs = model(inputs)\n",
    "            loss = criterion(outputs, labels)\n",
    "            loss.backward()\n",
    "            optimizer.step()\n",
    "\n",
    "            # print statistics\n",
    "            running_loss += loss.item()\n",
    "            final_loss.append(loss.item())\n",
    "            if i % 2000 == 1999:    # print every 2000 mini-batches\n",
    "                print('     [%d, %5d] loss: %.3f' %(epoch + 1, i + 1, running_loss / 2000))\n",
    "                running_loss = 0.0\n",
    "            \n",
    "        checkpoint = {\n",
    "            'epoch': epoch + 1,\n",
    "            'state_dict': model.state_dict(),\n",
    "            'optimizer': optimizer.state_dict()\n",
    "        }\n",
    "        save_ckp(checkpoint, False, \"training_checkpoints/\")\n",
    "        print(\"Final epoch loss: {:0.3f}\".format(float(loss)/batch_size))\n",
    "            \n",
    "    save_ckp(checkpoint, True, \"training_checkpoints/\")\n",
    "    \n",
    "    return model\n",
    "\n",
    "def save_ckp(state, final_model, checkpoint_dir):\n",
    "    f_path = checkpoint_dir + 'checkpoint.pt'\n",
    "    torch.save(state, f_path)\n",
    "    if final_model:\n",
    "        torch.save(state, \"models/finalmodel.pt\")\n",
    "\n",
    "def load_ckp(checkpoint_fpath, model, optimizer):\n",
    "    try:\n",
    "        checkpoint = torch.load(checkpoint_fpath)\n",
    "        model.load_state_dict(checkpoint['state_dict'])\n",
    "        optimizer.load_state_dict(checkpoint['optimizer'])\n",
    "        epoch_checkpoint = checkpoint['epoch']\n",
    "    except:\n",
    "        epoch_checkpoint = 0\n",
    "        \n",
    "    return model, optimizer, epoch_checkpoint\n"
   ]
  },
  {
   "cell_type": "code",
   "execution_count": 126,
   "metadata": {},
   "outputs": [
    {
     "name": "stdout",
     "output_type": "stream",
     "text": [
      "\n",
      "Epoch:  0\n",
      "     [1,  2000] loss: 2.129\n",
      "     [1,  4000] loss: 2.076\n",
      "     [1,  6000] loss: 2.059\n",
      "     [1,  8000] loss: 2.068\n",
      "     [1, 10000] loss: 2.055\n",
      "     [1, 12000] loss: 2.050\n",
      "Final epoch loss: 0.535\n"
     ]
    },
    {
     "data": {
      "text/plain": [
       "Net(\n",
       "  (fc1): Linear(in_features=3072, out_features=175, bias=True)\n",
       "  (relu): ReLU()\n",
       "  (fc2): Linear(in_features=175, out_features=10, bias=True)\n",
       "  (softmax): Softmax(dim=0)\n",
       ")"
      ]
     },
     "execution_count": 126,
     "metadata": {},
     "output_type": "execute_result"
    }
   ],
   "source": [
    "ckp_path = \"training_checkpoints/checkpoint.pt\"\n",
    "model, optimizer, start_epoch = load_ckp(ckp_path, model, optimizer)\n",
    "train(model, optimizer, num_epochs, start_epoch, batch_size, learning_rate, trainloader, False)"
   ]
  },
  {
   "cell_type": "markdown",
   "metadata": {},
   "source": [
    "## CUDA training of the neural network"
   ]
  },
  {
   "cell_type": "code",
   "execution_count": 172,
   "metadata": {},
   "outputs": [],
   "source": [
    "#device = torch.device(\"cuda:0\" if torch.cuda.is_available() else \"cpu\")\n",
    "#model.to(device)\n",
    "#ckp_path = \"training_checkpoints/checkpoint.pt\"\n",
    "#model, optimizer, start_epoch = load_ckp(ckp_path, model, optimizer)\n",
    "#train(model, optimizer, num_epochs, start_epoch, batch_size, learning_rate, trainloader, True)"
   ]
  },
  {
   "cell_type": "markdown",
   "metadata": {},
   "source": [
    "- Of course, repeated calls to `train` will continue training from where it were\n",
    "- Training a neural network is a highly iterative process."
   ]
  },
  {
   "cell_type": "markdown",
   "metadata": {
    "colab_type": "text",
    "id": "qpAJUiHm529m"
   },
   "source": [
    "## Evaluate the final performance of the Network\n",
    "\n",
    "- Once you think your network is properly trained, you will test its performance on the testing-set of the CIFAR-10 dataset\n",
    "- Compute the final accuracy of your model\n",
    "- You should be able to reach a 50% accuracy with a simple multi-layer perceptron"
   ]
  },
  {
   "cell_type": "code",
   "execution_count": 175,
   "metadata": {},
   "outputs": [
    {
     "data": {
      "image/png": "[encoded data removed]",
      "text/plain": [
       "<Figure size 864x864 with 1 Axes>"
      ]
     },
     "metadata": {
      "needs_background": "light"
     },
     "output_type": "display_data"
    },
    {
     "name": "stdout",
     "output_type": "stream",
     "text": [
      "GroundTruth:  horse   dog horse truck\n"
     ]
    }
   ],
   "source": [
    "dataiter = iter(testloader)\n",
    "images, labels = dataiter.next()\n",
    "\n",
    "# print images\n",
    "show_images(torchvision.utils.make_grid(images))\n",
    "print('GroundTruth: ', ' '.join('%5s' % classes[labels[j]] for j in range(batch_size)))"
   ]
  },
  {
   "cell_type": "code",
   "execution_count": 113,
   "metadata": {},
   "outputs": [],
   "source": [
    "from sklearn.metrics import (classification_report, roc_curve, \n",
    "                             precision_recall_curve, roc_auc_score, \n",
    "                             average_precision_score)"
   ]
  },
  {
   "cell_type": "code",
   "execution_count": 127,
   "metadata": {
    "colab": {
     "base_uri": "https://localhost:8080/",
     "height": 72
    },
    "colab_type": "code",
    "executionInfo": {
     "elapsed": 2278,
     "status": "ok",
     "timestamp": 1545795466013,
     "user": {
      "displayName": "Buomsoo Kim",
      "photoUrl": "",
      "userId": "18268696804115368229"
     },
     "user_tz": 420
    },
    "id": "txXH3dknFpSx",
    "outputId": "9330f014-2687-4464-b495-1ba861511e38"
   },
   "outputs": [],
   "source": [
    "def test(model):\n",
    "    dataiter = iter(testloader)\n",
    "    images, labels = dataiter.next()\n",
    "\n",
    "    # print images\n",
    "    show_images(torchvision.utils.make_grid(images))\n",
    "    print('GroundTruth: ', ' '.join('%5s' % classes[labels[j]] for j in range(batch_size)))\n",
    "    \n",
    "    model, _, _ = load_ckp(ckp_path, model, optimizer)\n",
    "    outputs = model(images)\n",
    "    _, predicted = torch.max(outputs, 1)\n",
    "\n",
    "    print('\\nPredicted: ', ' '.join('%5s' % classes[predicted[j]] for j in range(batch_size)))\n",
    "    \n",
    "    correct = 0\n",
    "    total = 0\n",
    "    \n",
    "    with torch.no_grad():\n",
    "        for data in testloader:\n",
    "            images, labels = data\n",
    "            outputs = model(images)\n",
    "            _, predicted = torch.max(outputs.data, 1)\n",
    "            total += labels.size(0)\n",
    "            correct += (predicted == labels).sum().item()\n",
    "\n",
    "    print('\\nAccuracy of the network on the 10000 test images: %d %%' % (100 * correct / total))\n",
    "    \n",
    "    class_correct = list(0. for i in range(10))\n",
    "    class_total = list(0. for i in range(10))\n",
    "    with torch.no_grad():\n",
    "        for data in testloader:\n",
    "            images, labels = data\n",
    "            outputs = model(images)\n",
    "            _, predicted = torch.max(outputs, 1)\n",
    "            c = (predicted == labels).squeeze()\n",
    "            for i in range(4):\n",
    "                label = labels[i]\n",
    "                class_correct[label] += c[i].item()\n",
    "                class_total[label] += 1\n",
    "\n",
    "\n",
    "    for i in range(10):\n",
    "        print('Accuracy of %5s : %2d %%' % (\n",
    "            classes[i], 100 * class_correct[i] / class_total[i]))"
   ]
  },
  {
   "cell_type": "code",
   "execution_count": 128,
   "metadata": {},
   "outputs": [
    {
     "data": {
      "image/png": "[encoded data removed]",
      "text/plain": [
       "<Figure size 864x864 with 1 Axes>"
      ]
     },
     "metadata": {
      "needs_background": "light"
     },
     "output_type": "display_data"
    },
    {
     "name": "stdout",
     "output_type": "stream",
     "text": [
      "GroundTruth:  horse  frog   cat  ship\n",
      "\n",
      "Predicted:  horse  bird plane  ship\n",
      "\n",
      "Accuracy of the network on the 10000 test images: 34 %\n",
      "Accuracy of plane : 40 %\n",
      "Accuracy of   car : 39 %\n",
      "Accuracy of  bird : 23 %\n",
      "Accuracy of   cat : 21 %\n",
      "Accuracy of  deer : 16 %\n",
      "Accuracy of   dog : 28 %\n",
      "Accuracy of  frog : 42 %\n",
      "Accuracy of horse : 40 %\n",
      "Accuracy of  ship : 48 %\n",
      "Accuracy of truck : 38 %\n"
     ]
    }
   ],
   "source": [
    "test(model)"
   ]
  },
  {
   "cell_type": "markdown",
   "metadata": {},
   "source": [
    "**Final remark.** Of course, this is far from being the state-of-the-art. Indeed, convolutional neural nets are the backbones for computer vision problems (we will do it in following labs), while we only used here a feed-forward network."
   ]
  },
  {
   "cell_type": "markdown",
   "metadata": {
    "ExecuteTime": {
     "end_time": "2021-02-19T11:20:48.131197Z",
     "start_time": "2021-02-19T11:20:48.126926Z"
    }
   },
   "source": [
    "## Redo it using `pytorch-lightning`\n",
    "\n",
    "There is some boilerplates in pure `PyTorch` code. The `pytorch-lightning` library is a new library allowing to simplify a lot the use of `PyTorch` together with very nice options for faster training and development."
   ]
  },
  {
   "cell_type": "code",
   "execution_count": 129,
   "metadata": {},
   "outputs": [],
   "source": [
    "import pytorch_lightning as pl"
   ]
  },
  {
   "cell_type": "code",
   "execution_count": 130,
   "metadata": {},
   "outputs": [],
   "source": [
    "class LightNet(pl.LightningModule):\n",
    "    def __init__(self, input_dim, hidden_dim, output_dim):\n",
    "        super(LightNet, self).__init__()\n",
    "        self.input_size = input_dim\n",
    "        self.hidden_size  = hidden_dim\n",
    "        \n",
    "        self.fc1 = torch.nn.Linear(self.input_size, self.hidden_size)\n",
    "        #self.fc2 = torch.nn.Linear(self.hidden_size, self.hidden_size)\n",
    "        #self.fc1 = torch.nn.Linear(self.hidden_size, self.hidden_size)\n",
    "        self.relu = torch.nn.ReLU()\n",
    "        self.fc2 = torch.nn.Linear(self.hidden_size, output_dim)\n",
    "        self.softmax = torch.nn.Softmax(dim=0)\n",
    "        self.loss = nn.CrossEntropyLoss()\n",
    "        \n",
    "    def forward(self, X):\n",
    "        X = X.view(-1, 3 * 32 * 32)\n",
    "        hidden = self.fc1(X)\n",
    "        relu = self.relu(hidden)\n",
    "        output = self.fc2(relu)\n",
    "        output = self.softmax(output)\n",
    "        return output\n",
    "    \n",
    "    def training_step(self, batch, batch_idx):\n",
    "        x, y = batch\n",
    "        x = x.view(x.size(0), -1)\n",
    "        y_hat = self(x)\n",
    "        loss = self.loss(y_hat, y)\n",
    "    \n",
    "        # training metrics\n",
    "        y_hat = torch.argmax(y_hat, dim=1)\n",
    "        acc = torch.sum(y == y_hat).item() / (len(y) * 100)\n",
    "        self.log('train_loss', loss, on_step=True, on_epoch=True, logger=True, prog_bar=True)\n",
    "        self.log('train_acc', acc, on_step=True, on_epoch=True, logger=True, prog_bar=True)\n",
    "        return loss\n",
    "    \n",
    "    def test_step(self, batch, batch_idx):\n",
    "        x, y = batch\n",
    "        x = x.view(x.size(0), -1)\n",
    "        y_hat = self(x)\n",
    "        loss = self.loss(y_hat, y)\n",
    "        \n",
    "        y_hat = torch.argmax(y_hat, dim=1)\n",
    "        accuracy = torch.sum(y == y_hat).item() / (len(y) * 100)\n",
    "        output = dict({\n",
    "            'test_loss': loss,\n",
    "            'test_acc': torch.tensor(accuracy),\n",
    "        })\n",
    "        return output\n",
    "        \n",
    "    def configure_optimizers(self):\n",
    "        optimizer = torch.optim.SGD(self.parameters(), lr=1e-3)\n",
    "        return optimizer"
   ]
  },
  {
   "cell_type": "code",
   "execution_count": 131,
   "metadata": {},
   "outputs": [
    {
     "name": "stderr",
     "output_type": "stream",
     "text": [
      "GPU available: False, used: False\n",
      "TPU available: None, using: 0 TPU cores\n",
      "\n",
      "  | Name    | Type             | Params\n",
      "---------------------------------------------\n",
      "0 | fc1     | Linear           | 537 K \n",
      "1 | relu    | ReLU             | 0     \n",
      "2 | fc2     | Linear           | 1.8 K \n",
      "3 | softmax | Softmax          | 0     \n",
      "4 | loss    | CrossEntropyLoss | 0     \n",
      "---------------------------------------------\n",
      "539 K     Trainable params\n",
      "0         Non-trainable params\n",
      "539 K     Total params\n",
      "2.158     Total estimated model params size (MB)\n"
     ]
    },
    {
     "data": {
      "application/vnd.jupyter.widget-view+json": {
       "model_id": "e5bef023d6f64073880e939025f13993",
       "version_major": 2,
       "version_minor": 0
      },
      "text/plain": [
       "HBox(children=(HTML(value='Training'), FloatProgress(value=1.0, bar_style='info', layout=Layout(flex='2'), max…"
      ]
     },
     "metadata": {},
     "output_type": "display_data"
    },
    {
     "name": "stdout",
     "output_type": "stream",
     "text": [
      "\n"
     ]
    },
    {
     "data": {
      "application/vnd.jupyter.widget-view+json": {
       "model_id": "0625624ae7b04df494c6c0bbe171dd9c",
       "version_major": 2,
       "version_minor": 0
      },
      "text/plain": [
       "HBox(children=(HTML(value='Testing'), FloatProgress(value=1.0, bar_style='info', layout=Layout(flex='2'), max=…"
      ]
     },
     "metadata": {},
     "output_type": "display_data"
    },
    {
     "name": "stdout",
     "output_type": "stream",
     "text": [
      "\n",
      "--------------------------------------------------------------------------------\n",
      "DATALOADER:0 TEST RESULTS\n",
      "{'test_acc': 0.5, 'test_loss': 2.1202213764190674}\n",
      "--------------------------------------------------------------------------------\n"
     ]
    },
    {
     "data": {
      "text/plain": [
       "[{'test_loss': 2.1202213764190674, 'test_acc': 0.5}]"
      ]
     },
     "execution_count": 131,
     "metadata": {},
     "output_type": "execute_result"
    }
   ],
   "source": [
    "lightModel = LightNet(input_dim, hidden_dim, output_dim)\n",
    "    \n",
    "trainer = pl.Trainer(max_epochs = 1, auto_select_gpus=True)\n",
    "  \n",
    "# Perform training\n",
    "trainer.fit(lightModel, trainloader)\n",
    "\n",
    "# Perform evaluation\n",
    "trainer.test(lightModel, testloader)"
   ]
  },
  {
   "cell_type": "code",
   "execution_count": 132,
   "metadata": {},
   "outputs": [
    {
     "data": {
      "image/png": "[encoded data removed]",
      "text/plain": [
       "<Figure size 864x864 with 1 Axes>"
      ]
     },
     "metadata": {
      "needs_background": "light"
     },
     "output_type": "display_data"
    },
    {
     "name": "stdout",
     "output_type": "stream",
     "text": [
      "GroundTruth:  plane  bird horse   dog\n",
      "\n",
      "Predicted:  plane horse  bird   car\n",
      "\n",
      "Accuracy of the network on the 10000 test images: 34 %\n",
      "Accuracy of plane : 39 %\n",
      "Accuracy of   car : 40 %\n",
      "Accuracy of  bird : 25 %\n",
      "Accuracy of   cat : 21 %\n",
      "Accuracy of  deer : 18 %\n",
      "Accuracy of   dog : 28 %\n",
      "Accuracy of  frog : 41 %\n",
      "Accuracy of horse : 41 %\n",
      "Accuracy of  ship : 49 %\n",
      "Accuracy of truck : 41 %\n"
     ]
    }
   ],
   "source": [
    "test(lightModel)"
   ]
  }
 ],
 "metadata": {
  "accelerator": "GPU",
  "colab": {
   "collapsed_sections": [],
   "name": "DL-with-pytorch - 2 [MLP].ipynb",
   "provenance": [],
   "version": "0.3.2"
  },
  "kernelspec": {
   "display_name": "Python 3",
   "language": "python",
   "name": "python3"
  },
  "language_info": {
   "codemirror_mode": {
    "name": "ipython",
    "version": 3
   },
   "file_extension": ".py",
   "mimetype": "text/x-python",
   "name": "python",
   "nbconvert_exporter": "python",
   "pygments_lexer": "ipython3",
   "version": "3.8.5"
  },
  "toc": {
   "base_numbering": 1,
   "nav_menu": {},
   "number_sections": true,
   "sideBar": true,
   "skip_h1_title": true,
   "title_cell": "Table of Contents",
   "title_sidebar": "Contents",
   "toc_cell": false,
   "toc_position": {},
   "toc_section_display": true,
   "toc_window_display": true
  }
 },
 "nbformat": 4,
 "nbformat_minor": 1
}
