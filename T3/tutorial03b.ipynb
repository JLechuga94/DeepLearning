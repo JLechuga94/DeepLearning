{
 "cells": [
  {
   "cell_type": "markdown",
   "metadata": {
    "colab_type": "text",
    "id": "bIAYbYajk1w9"
   },
   "source": [
    "# Tutorial 3b. Multilayer Perceptrons with Auto-differentiation!\n",
    "# Everything is here!! https://pytorch.org/tutorials/beginner/blitz/cifar10_tutorial.html\n",
    "\n",
    "- In this tutorial you will train (again) a multilayer perceptron\n",
    "\n",
    "- But differently from what you did in `tutorial3a`, since this time, you will let the `PyTorch` library do most of the complicated work for you\n",
    "\n",
    "- The goal of this notebook is to make you get familiar with `PyTorch` and the its main concepts, that we will use repeatedly along the course.\n",
    "\n",
    "- We will be training a multilayer perceptron on the `CIFAR-10` dataset, a popular dataset of images that is used in Computer-Vision (CV) research\n",
    "\n",
    "- You will need to use a lot the documentation of `PyTorch` and look at examples for this notebook."
   ]
  },
  {
   "cell_type": "code",
   "execution_count": 49,
   "metadata": {
    "ExecuteTime": {
     "end_time": "2021-02-19T11:25:27.197652Z",
     "start_time": "2021-02-19T11:25:26.473286Z"
    },
    "colab": {
     "base_uri": "https://localhost:8080/",
     "height": 34
    },
    "colab_type": "code",
    "executionInfo": {
     "elapsed": 1060,
     "status": "ok",
     "timestamp": 1545794710219,
     "user": {
      "displayName": "Buomsoo Kim",
      "photoUrl": "",
      "userId": "18268696804115368229"
     },
     "user_tz": 420
    },
    "id": "8yy37hEYOEiQ",
    "outputId": "4434d2e8-c5e8-4dce-8316-7f9230dc1b75"
   },
   "outputs": [],
   "source": [
    "import torch, torchvision\n",
    "import shutil\n",
    "import numpy as np\n",
    "import torch.nn as nn\n",
    "from torchvision import datasets\n",
    "import torchvision.transforms as transforms\n",
    "from matplotlib import pyplot as plt \n",
    "import multiprocessing"
   ]
  },
  {
   "cell_type": "markdown",
   "metadata": {},
   "source": [
    "## Load the dataset\n",
    "\n",
    "- `PyTorch` provides popular computer vision datasets that can be easily downloaded\n",
    "- The following code will download the `CIFAR-10` dataset for us  \n",
    "- Since it is computationally expensive to load the entire dataset into memory, we will use `PyTorch`'s dataloaders  before feeding batches of images to the neural network\n",
    "\n",
    "**QUESTION.** Fill in the next cell"
   ]
  },
  {
   "cell_type": "code",
   "execution_count": 71,
   "metadata": {},
   "outputs": [
    {
     "name": "stdout",
     "output_type": "stream",
     "text": [
      "Files already downloaded and verified\n",
      "Files already downloaded and verified\n"
     ]
    }
   ],
   "source": [
    "transform = transforms.Compose(\n",
    "    [transforms.ToTensor(),\n",
    "     transforms.Normalize((0.5, 0.5, 0.5), (0.5, 0.5, 0.5))])\n",
    "\n",
    "trainset = datasets.CIFAR10(root = \"./data\", train = True, download = True, transform = transform)\n",
    "testset = datasets.CIFAR10(root = \"./data\", train = False, download = True, transform = transform)"
   ]
  },
  {
   "cell_type": "code",
   "execution_count": 73,
   "metadata": {
    "ExecuteTime": {
     "end_time": "2021-02-19T12:37:41.998615Z",
     "start_time": "2021-02-19T12:37:41.993076Z"
    },
    "colab": {
     "base_uri": "https://localhost:8080/",
     "height": 52
    },
    "colab_type": "code",
    "executionInfo": {
     "elapsed": 2530,
     "status": "ok",
     "timestamp": 1545795192346,
     "user": {
      "displayName": "Buomsoo Kim",
      "photoUrl": "",
      "userId": "18268696804115368229"
     },
     "user_tz": 420
    },
    "id": "W5anlYa01w3w",
    "outputId": "dc43d91b-ad85-423f-fb18-1a0d2af22f25",
    "scrolled": true
   },
   "outputs": [],
   "source": [
    "# Based on different papers using CIFAR-10 https://www.arxiv-vanity.com/papers/1804.07612/\n",
    "batch_size = 4\n",
    "\n",
    "# Verify how many cores the computer has and assign all of them to the task\n",
    "num_workers = multiprocessing.cpu_count()\n",
    "\n",
    "# Fill in the options for both data loaders. Warning: the training dataloader should shuffle the data\n",
    "trainloader = torch.utils.data.DataLoader(trainset, batch_size=batch_size, num_workers=num_workers, shuffle=True)\n",
    "testloader = torch.utils.data.DataLoader(testset, batch_size=batch_size, num_workers=num_workers, shuffle=True)\n",
    "\n",
    "classes = ('plane', 'car', 'bird', 'cat', 'deer', 'dog', 'frog', 'horse', 'ship', 'truck')"
   ]
  },
  {
   "cell_type": "markdown",
   "metadata": {},
   "source": [
    "## Visualize the Images of CIFAR-10\n",
    "\n",
    "* Once everything is properly loaded you should be able to visualize some of the samples of the CIFAR-10"
   ]
  },
  {
   "cell_type": "code",
   "execution_count": 74,
   "metadata": {},
   "outputs": [
    {
     "data": {
      "image/png": "[encoded data removed]",
      "text/plain": [
       "<Figure size 864x864 with 1 Axes>"
      ]
     },
     "metadata": {
      "needs_background": "light"
     },
     "output_type": "display_data"
    },
    {
     "name": "stdout",
     "output_type": "stream",
     "text": [
      " bird   car  bird   dog\n"
     ]
    }
   ],
   "source": [
    "def show_images(img):\n",
    "    img = img / 2 + 0.5\n",
    "    npimg = img.numpy()\n",
    "    plt.figure(figsize=(12, 12))\n",
    "    plt.imshow(np.transpose(npimg, (1, 2, 0)))\n",
    "    plt.show()\n",
    "    \n",
    "dataiter = iter(trainloader)\n",
    "images, labels = dataiter.next()\n",
    "show_images(torchvision.utils.make_grid(images))\n",
    "print(' '.join('%5s' % classes[labels[j]] for j in range(batch_size)))"
   ]
  },
  {
   "cell_type": "markdown",
   "metadata": {
    "colab_type": "text",
    "id": "9nznVMdo5edZ"
   },
   "source": [
    "## Creating a MLP model and train it\n",
    "\n",
    "- We are now ready to define all the necessary hyperparameters that are required to construct a proper MLP\n",
    "- Similarly to what we did in `tutorial03a` we need to explore the data carefully in order to know how to set the following parameters\n",
    "\n",
    "### Hyperparameters"
   ]
  },
  {
   "cell_type": "markdown",
   "metadata": {},
   "source": [
    "There are many rule-of-thumb methods for determining the correct number of neurons to use in the hidden layers, such as the following:\n",
    "1. The number of hidden neurons should be between the size of the input layer and the size of the output layer.\n",
    "2. The number of hidden neurons should be 2/3 the size of the input layer, plus the size of the output layer.\n",
    "3. The number of hidden neurons should be less than twice the size of the input layer.\n",
    "\n",
    "There's a geometric pyramid rule that says that whre input has m nodes and output has n nodes, the hidden layer should have  sqrt(m∗n)"
   ]
  },
  {
   "cell_type": "code",
   "execution_count": 30,
   "metadata": {},
   "outputs": [],
   "source": [
    "input_dim = 3*32*32\n",
    "hidden_dim = 175\n",
    "output_dim = 10\n",
    "learning_rate = .001\n",
    "num_epochs = 100"
   ]
  },
  {
   "cell_type": "markdown",
   "metadata": {},
   "source": [
    "### Computation Graph\n",
    "\n",
    "- You are free to define any kind of architecture that you think is reasonable for the problem of classifying CIFAR-10 images\n",
    "- By default, you can use a multi-layer perceptron\n",
    "- The constructor of the neural network will represent the different components of the computation-graph, note that it is very similar to the way we have programmed our own neural network in `tutorial03a`.\n",
    "- You will also have to define the forward pass yourself."
   ]
  },
  {
   "cell_type": "code",
   "execution_count": 133,
   "metadata": {
    "colab": {},
    "colab_type": "code",
    "id": "AQawpMRPI7jm"
   },
   "outputs": [],
   "source": [
    "class Net(nn.Module):\n",
    "    def __init__(self, input_dim, hidden_dim, output_dim):\n",
    "        super(Net, self).__init__()\n",
    "        self.input_size = input_dim\n",
    "        self.hidden_size  = hidden_dim\n",
    "        \n",
    "        self.fc1 = torch.nn.Linear(self.input_size, self.hidden_size)\n",
    "        #self.fc2 = torch.nn.Linear(self.hidden_size, self.hidden_size)\n",
    "        #self.fc1 = torch.nn.Linear(self.hidden_size, self.hidden_size)\n",
    "        self.relu = torch.nn.ReLU()\n",
    "        self.fc2 = torch.nn.Linear(self.hidden_size, output_dim)\n",
    "        self.softmax = torch.nn.Softmax(dim=0)\n",
    "        \n",
    "    def forward(self, X):\n",
    "        X = X.view(-1, 3 * 32 * 32)\n",
    "        hidden = self.fc1(X)\n",
    "        relu = self.relu(hidden)\n",
    "        output = self.fc2(relu)\n",
    "        output = self.softmax(output)\n",
    "        return output"
   ]
  },
  {
   "cell_type": "markdown",
   "metadata": {},
   "source": [
    "### Create the Network\n",
    "\n",
    "- You are now ready to create your neural network object\n",
    "- You will also have to define an appropriate loss function to minimize and an optimization algorithm\n",
    "- By default, you can use the cross-entropy loss and the RMS prop optimizer"
   ]
  },
  {
   "cell_type": "code",
   "execution_count": 134,
   "metadata": {
    "colab": {},
    "colab_type": "code",
    "id": "cPBm8qDrSWsi"
   },
   "outputs": [],
   "source": [
    "model = Net(input_dim, hidden_dim, output_dim)\n",
    "\n",
    "# CrossEntropyLoss() for a multi-class classification problem like ours\n",
    "criterion = torch.nn.CrossEntropyLoss()\n",
    "\n",
    "optimizer = torch.optim.SGD(model.parameters(), lr = learning_rate)"
   ]
  },
  {
   "cell_type": "markdown",
   "metadata": {
    "colab": {},
    "colab_type": "code",
    "collapsed": true,
    "id": "rP0Gt5E9ajmd"
   },
   "source": [
    "### Train the Network\n",
    "\n",
    "- Once you have your neural network you just need to train it. \n",
    "- You will have to compute the output of the forward pass, compare it to your desired output and update the parameters of the network by backpropagation. \n",
    "- Fortunately this time, this only requires less than 5 lines of code in `PyTorch`"
   ]
  },
  {
   "cell_type": "code",
   "execution_count": 147,
   "metadata": {
    "colab": {
     "base_uri": "https://localhost:8080/",
     "height": 193
    },
    "colab_type": "code",
    "executionInfo": {
     "elapsed": 89814,
     "status": "ok",
     "timestamp": 1545795315447,
     "user": {
      "displayName": "Buomsoo Kim",
      "photoUrl": "",
      "userId": "18268696804115368229"
     },
     "user_tz": 420
    },
    "id": "SEBtAPYCFeic",
    "outputId": "edda354d-30d8-40cb-fef0-9c2a4fd968eb"
   },
   "outputs": [],
   "source": [
    "def train(model, optimizer, num_epochs, start_epoch, batch_size, learning_rate, trainloader, cuda):\n",
    "    iters, losses = [], []\n",
    "    iters_sub, train_acc, val_acc = [], [] ,[]\n",
    "    # training\n",
    "    if cuda:\n",
    "        print(\"CUDA training ACTIVE\")\n",
    "        model.to(device)\n",
    "    n = 0 # the number of iterations\n",
    "    for epoch in range(start_epoch, num_epochs):\n",
    "        print(\"\\nEpoch: \", epoch)\n",
    "        running_loss = 0.0\n",
    "        \n",
    "        for i, data in enumerate(trainloader, 0):\n",
    "            # get the inputs; data is a list of [inputs, labels]\n",
    "            \n",
    "            #CUDA training\n",
    "            if cuda:\n",
    "                inputs, labels = data[0].to(device), data[1].to(device)\n",
    "            \n",
    "            inputs, labels = data\n",
    "            \n",
    "            # zero the parameter gradients\n",
    "            optimizer.zero_grad()\n",
    "\n",
    "            # forward + backward + optimize\n",
    "            outputs = model(inputs)\n",
    "            loss = criterion(outputs, labels)\n",
    "            loss.backward()\n",
    "            optimizer.step()\n",
    "\n",
    "            # print statistics\n",
    "            running_loss += loss.item()\n",
    "\n",
    "            if i % 2000 == 1999:    # print every 2000 mini-batches\n",
    "                print('     [%d, %5d] loss: %.3f' %(epoch + 1, i + 1, running_loss / 2000))\n",
    "                running_loss = 0.0\n",
    "            \n",
    "        checkpoint = {\n",
    "            'epoch': epoch + 1,\n",
    "            'state_dict': model.state_dict(),\n",
    "            'optimizer': optimizer.state_dict()\n",
    "        }\n",
    "        save_ckp(checkpoint, False, \"training_checkpoints/\")\n",
    "        print(\"Final epoch loss: {:0.3f}\".format(epoch, float(loss)/batch_size))\n",
    "            \n",
    "    save_ckp(checkpoint, True, \"training_checkpoints/\")\n",
    "    \n",
    "    return model\n",
    "\n",
    "def get_accuracy(model, data):\n",
    "    loader = torch.utils.data.DataLoader(data, batch_size=500)\n",
    "    correct, total = 0, 0\n",
    "    for xs, ts in loader:\n",
    "        xs = xs.view(-1, 3*32*32) # flatten the image\n",
    "        zs = model(xs)\n",
    "        pred = zs.max(1, keepdim=True)[1] # get the index of the max logit\n",
    "        correct += pred.eq(ts.view_as(pred)).sum().item()\n",
    "        total += int(ts.shape[0])\n",
    "    return correct / total\n",
    "\n",
    "def save_ckp(state, final_model, checkpoint_dir):\n",
    "    f_path = checkpoint_dir + 'checkpoint.pt'\n",
    "    torch.save(state, f_path)\n",
    "    if final_model:\n",
    "        torch.save(state, \"models/\")\n",
    "\n",
    "def load_ckp(checkpoint_fpath, model, optimizer):\n",
    "    try:\n",
    "        checkpoint = torch.load(checkpoint_fpath)\n",
    "        model.load_state_dict(checkpoint['state_dict'])\n",
    "        optimizer.load_state_dict(checkpoint['optimizer'])\n",
    "        epoch_checkpoint = checkpoint['epoch']\n",
    "    except:\n",
    "        epoch_checkpoint = 0\n",
    "        \n",
    "    return model, optimizer, epoch_checkpoint\n"
   ]
  },
  {
   "cell_type": "code",
   "execution_count": 148,
   "metadata": {},
   "outputs": [
    {
     "name": "stdout",
     "output_type": "stream",
     "text": [
      "\n",
      "Epoch:  14\n",
      "     [15,  2000] loss: 2.025\n",
      "     [15,  4000] loss: 2.019\n",
      "     [15,  6000] loss: 2.025\n",
      "     [15,  8000] loss: 2.009\n",
      "     [15, 10000] loss: 2.017\n",
      "     [15, 12000] loss: 2.021\n",
      "Final epoch loss: 14.000\n",
      "\n",
      "Epoch:  15\n",
      "     [16,  2000] loss: 2.019\n",
      "     [16,  4000] loss: 2.015\n",
      "     [16,  6000] loss: 2.018\n",
      "     [16,  8000] loss: 2.016\n",
      "     [16, 10000] loss: 2.022\n",
      "     [16, 12000] loss: 2.017\n",
      "Final epoch loss: 15.000\n",
      "\n",
      "Epoch:  16\n",
      "     [17,  2000] loss: 2.016\n",
      "     [17,  4000] loss: 2.022\n",
      "     [17,  6000] loss: 2.016\n",
      "     [17,  8000] loss: 2.015\n",
      "     [17, 10000] loss: 2.011\n",
      "     [17, 12000] loss: 2.015\n",
      "Final epoch loss: 16.000\n",
      "\n",
      "Epoch:  17\n",
      "     [18,  2000] loss: 2.012\n",
      "     [18,  4000] loss: 2.012\n",
      "     [18,  6000] loss: 2.014\n",
      "     [18,  8000] loss: 2.013\n",
      "     [18, 10000] loss: 2.016\n",
      "     [18, 12000] loss: 2.011\n",
      "Final epoch loss: 17.000\n",
      "\n",
      "Epoch:  18\n",
      "     [19,  2000] loss: 2.011\n",
      "     [19,  4000] loss: 2.013\n",
      "     [19,  6000] loss: 2.014\n",
      "     [19,  8000] loss: 2.004\n",
      "     [19, 10000] loss: 2.014\n",
      "     [19, 12000] loss: 2.007\n",
      "Final epoch loss: 18.000\n",
      "\n",
      "Epoch:  19\n",
      "     [20,  2000] loss: 2.003\n",
      "     [20,  4000] loss: 2.006\n",
      "     [20,  6000] loss: 2.009\n",
      "     [20,  8000] loss: 2.012\n",
      "     [20, 10000] loss: 2.013\n",
      "     [20, 12000] loss: 2.017\n",
      "Final epoch loss: 19.000\n",
      "\n",
      "Epoch:  20\n",
      "     [21,  2000] loss: 2.007\n",
      "     [21,  4000] loss: 2.009\n",
      "     [21,  6000] loss: 2.014\n",
      "     [21,  8000] loss: 2.007\n",
      "     [21, 10000] loss: 2.012\n",
      "     [21, 12000] loss: 2.003\n",
      "Final epoch loss: 20.000\n",
      "\n",
      "Epoch:  21\n",
      "     [22,  2000] loss: 2.006\n",
      "     [22,  4000] loss: 2.005\n",
      "     [22,  6000] loss: 2.010\n",
      "     [22,  8000] loss: 2.008\n",
      "     [22, 10000] loss: 1.998\n",
      "     [22, 12000] loss: 2.006\n",
      "Final epoch loss: 21.000\n",
      "\n",
      "Epoch:  22\n",
      "     [23,  2000] loss: 2.009\n",
      "     [23,  4000] loss: 1.999\n",
      "     [23,  6000] loss: 2.012\n",
      "     [23,  8000] loss: 1.997\n",
      "     [23, 10000] loss: 2.006\n",
      "     [23, 12000] loss: 2.004\n",
      "Final epoch loss: 22.000\n",
      "\n",
      "Epoch:  23\n",
      "     [24,  2000] loss: 2.007\n",
      "     [24,  4000] loss: 2.003\n",
      "     [24,  6000] loss: 2.007\n",
      "     [24,  8000] loss: 2.001\n",
      "     [24, 10000] loss: 2.007\n",
      "     [24, 12000] loss: 1.999\n",
      "Final epoch loss: 23.000\n",
      "\n",
      "Epoch:  24\n",
      "     [25,  2000] loss: 2.005\n",
      "     [25,  4000] loss: 1.995\n",
      "     [25,  6000] loss: 2.009\n",
      "     [25,  8000] loss: 2.000\n",
      "     [25, 10000] loss: 2.004\n",
      "     [25, 12000] loss: 2.006\n",
      "Final epoch loss: 24.000\n",
      "\n",
      "Epoch:  25\n"
     ]
    },
    {
     "ename": "KeyboardInterrupt",
     "evalue": "",
     "output_type": "error",
     "traceback": [
      "\u001b[0;31m---------------------------------------------------------------------------\u001b[0m",
      "\u001b[0;31mKeyboardInterrupt\u001b[0m                         Traceback (most recent call last)",
      "\u001b[0;32m<ipython-input-148-259bbd01b0cf>\u001b[0m in \u001b[0;36m<module>\u001b[0;34m\u001b[0m\n\u001b[1;32m      1\u001b[0m \u001b[0mckp_path\u001b[0m \u001b[0;34m=\u001b[0m \u001b[0;34m\"training_checkpoints/checkpoint.pt\"\u001b[0m\u001b[0;34m\u001b[0m\u001b[0;34m\u001b[0m\u001b[0m\n\u001b[1;32m      2\u001b[0m \u001b[0mmodel\u001b[0m\u001b[0;34m,\u001b[0m \u001b[0moptimizer\u001b[0m\u001b[0;34m,\u001b[0m \u001b[0mstart_epoch\u001b[0m \u001b[0;34m=\u001b[0m \u001b[0mload_ckp\u001b[0m\u001b[0;34m(\u001b[0m\u001b[0mckp_path\u001b[0m\u001b[0;34m,\u001b[0m \u001b[0mmodel\u001b[0m\u001b[0;34m,\u001b[0m \u001b[0moptimizer\u001b[0m\u001b[0;34m)\u001b[0m\u001b[0;34m\u001b[0m\u001b[0;34m\u001b[0m\u001b[0m\n\u001b[0;32m----> 3\u001b[0;31m \u001b[0mtrain\u001b[0m\u001b[0;34m(\u001b[0m\u001b[0mmodel\u001b[0m\u001b[0;34m,\u001b[0m \u001b[0moptimizer\u001b[0m\u001b[0;34m,\u001b[0m \u001b[0mnum_epochs\u001b[0m\u001b[0;34m,\u001b[0m \u001b[0mstart_epoch\u001b[0m\u001b[0;34m,\u001b[0m \u001b[0mbatch_size\u001b[0m\u001b[0;34m,\u001b[0m \u001b[0mlearning_rate\u001b[0m\u001b[0;34m,\u001b[0m \u001b[0mtrainloader\u001b[0m\u001b[0;34m,\u001b[0m \u001b[0;32mFalse\u001b[0m\u001b[0;34m)\u001b[0m\u001b[0;34m\u001b[0m\u001b[0;34m\u001b[0m\u001b[0m\n\u001b[0m",
      "\u001b[0;32m<ipython-input-147-7063f65d398d>\u001b[0m in \u001b[0;36mtrain\u001b[0;34m(model, optimizer, num_epochs, start_epoch, batch_size, learning_rate, trainloader, cuda)\u001b[0m\n\u001b[1;32m     27\u001b[0m             \u001b[0mloss\u001b[0m \u001b[0;34m=\u001b[0m \u001b[0mcriterion\u001b[0m\u001b[0;34m(\u001b[0m\u001b[0moutputs\u001b[0m\u001b[0;34m,\u001b[0m \u001b[0mlabels\u001b[0m\u001b[0;34m)\u001b[0m\u001b[0;34m\u001b[0m\u001b[0;34m\u001b[0m\u001b[0m\n\u001b[1;32m     28\u001b[0m             \u001b[0mloss\u001b[0m\u001b[0;34m.\u001b[0m\u001b[0mbackward\u001b[0m\u001b[0;34m(\u001b[0m\u001b[0;34m)\u001b[0m\u001b[0;34m\u001b[0m\u001b[0;34m\u001b[0m\u001b[0m\n\u001b[0;32m---> 29\u001b[0;31m             \u001b[0moptimizer\u001b[0m\u001b[0;34m.\u001b[0m\u001b[0mstep\u001b[0m\u001b[0;34m(\u001b[0m\u001b[0;34m)\u001b[0m\u001b[0;34m\u001b[0m\u001b[0;34m\u001b[0m\u001b[0m\n\u001b[0m\u001b[1;32m     30\u001b[0m \u001b[0;34m\u001b[0m\u001b[0m\n\u001b[1;32m     31\u001b[0m             \u001b[0;31m# print statistics\u001b[0m\u001b[0;34m\u001b[0m\u001b[0;34m\u001b[0m\u001b[0;34m\u001b[0m\u001b[0m\n",
      "\u001b[0;32m~/anaconda3/envs/deep/lib/python3.8/site-packages/torch/autograd/grad_mode.py\u001b[0m in \u001b[0;36mdecorate_context\u001b[0;34m(*args, **kwargs)\u001b[0m\n\u001b[1;32m     24\u001b[0m         \u001b[0;32mdef\u001b[0m \u001b[0mdecorate_context\u001b[0m\u001b[0;34m(\u001b[0m\u001b[0;34m*\u001b[0m\u001b[0margs\u001b[0m\u001b[0;34m,\u001b[0m \u001b[0;34m**\u001b[0m\u001b[0mkwargs\u001b[0m\u001b[0;34m)\u001b[0m\u001b[0;34m:\u001b[0m\u001b[0;34m\u001b[0m\u001b[0;34m\u001b[0m\u001b[0m\n\u001b[1;32m     25\u001b[0m             \u001b[0;32mwith\u001b[0m \u001b[0mself\u001b[0m\u001b[0;34m.\u001b[0m\u001b[0m__class__\u001b[0m\u001b[0;34m(\u001b[0m\u001b[0;34m)\u001b[0m\u001b[0;34m:\u001b[0m\u001b[0;34m\u001b[0m\u001b[0;34m\u001b[0m\u001b[0m\n\u001b[0;32m---> 26\u001b[0;31m                 \u001b[0;32mreturn\u001b[0m \u001b[0mfunc\u001b[0m\u001b[0;34m(\u001b[0m\u001b[0;34m*\u001b[0m\u001b[0margs\u001b[0m\u001b[0;34m,\u001b[0m \u001b[0;34m**\u001b[0m\u001b[0mkwargs\u001b[0m\u001b[0;34m)\u001b[0m\u001b[0;34m\u001b[0m\u001b[0;34m\u001b[0m\u001b[0m\n\u001b[0m\u001b[1;32m     27\u001b[0m         \u001b[0;32mreturn\u001b[0m \u001b[0mcast\u001b[0m\u001b[0;34m(\u001b[0m\u001b[0mF\u001b[0m\u001b[0;34m,\u001b[0m \u001b[0mdecorate_context\u001b[0m\u001b[0;34m)\u001b[0m\u001b[0;34m\u001b[0m\u001b[0;34m\u001b[0m\u001b[0m\n\u001b[1;32m     28\u001b[0m \u001b[0;34m\u001b[0m\u001b[0m\n",
      "\u001b[0;32m~/anaconda3/envs/deep/lib/python3.8/site-packages/torch/optim/sgd.py\u001b[0m in \u001b[0;36mstep\u001b[0;34m(self, closure)\u001b[0m\n\u001b[1;32m     93\u001b[0m \u001b[0;34m\u001b[0m\u001b[0m\n\u001b[1;32m     94\u001b[0m             \u001b[0;32mfor\u001b[0m \u001b[0mp\u001b[0m \u001b[0;32min\u001b[0m \u001b[0mgroup\u001b[0m\u001b[0;34m[\u001b[0m\u001b[0;34m'params'\u001b[0m\u001b[0;34m]\u001b[0m\u001b[0;34m:\u001b[0m\u001b[0;34m\u001b[0m\u001b[0;34m\u001b[0m\u001b[0m\n\u001b[0;32m---> 95\u001b[0;31m                 \u001b[0;32mif\u001b[0m \u001b[0mp\u001b[0m\u001b[0;34m.\u001b[0m\u001b[0mgrad\u001b[0m \u001b[0;32mis\u001b[0m \u001b[0;32mNone\u001b[0m\u001b[0;34m:\u001b[0m\u001b[0;34m\u001b[0m\u001b[0;34m\u001b[0m\u001b[0m\n\u001b[0m\u001b[1;32m     96\u001b[0m                     \u001b[0;32mcontinue\u001b[0m\u001b[0;34m\u001b[0m\u001b[0;34m\u001b[0m\u001b[0m\n\u001b[1;32m     97\u001b[0m                 \u001b[0md_p\u001b[0m \u001b[0;34m=\u001b[0m \u001b[0mp\u001b[0m\u001b[0;34m.\u001b[0m\u001b[0mgrad\u001b[0m\u001b[0;34m\u001b[0m\u001b[0;34m\u001b[0m\u001b[0m\n",
      "\u001b[0;32m~/anaconda3/envs/deep/lib/python3.8/site-packages/torch/tensor.py\u001b[0m in \u001b[0;36mgrad\u001b[0;34m(self)\u001b[0m\n\u001b[1;32m    945\u001b[0m             \u001b[0;32mreturn\u001b[0m \u001b[0mhandle_torch_function\u001b[0m\u001b[0;34m(\u001b[0m\u001b[0mTensor\u001b[0m\u001b[0;34m.\u001b[0m\u001b[0mgrad\u001b[0m\u001b[0;34m.\u001b[0m\u001b[0m__get__\u001b[0m\u001b[0;34m,\u001b[0m \u001b[0mrelevant_args\u001b[0m\u001b[0;34m,\u001b[0m \u001b[0mself\u001b[0m\u001b[0;34m)\u001b[0m  \u001b[0;31m# type: ignore[attr-defined]\u001b[0m\u001b[0;34m\u001b[0m\u001b[0;34m\u001b[0m\u001b[0m\n\u001b[1;32m    946\u001b[0m \u001b[0;34m\u001b[0m\u001b[0m\n\u001b[0;32m--> 947\u001b[0;31m         \u001b[0;32mif\u001b[0m \u001b[0mself\u001b[0m\u001b[0;34m.\u001b[0m\u001b[0mrequires_grad\u001b[0m \u001b[0;32mand\u001b[0m \u001b[0;32mnot\u001b[0m \u001b[0mhasattr\u001b[0m\u001b[0;34m(\u001b[0m\u001b[0mself\u001b[0m\u001b[0;34m,\u001b[0m \u001b[0;34m\"retains_grad\"\u001b[0m\u001b[0;34m)\u001b[0m \u001b[0;32mand\u001b[0m \u001b[0;32mnot\u001b[0m \u001b[0mself\u001b[0m\u001b[0;34m.\u001b[0m\u001b[0mis_leaf\u001b[0m \u001b[0;32mand\u001b[0m \u001b[0mself\u001b[0m\u001b[0;34m.\u001b[0m\u001b[0m_grad\u001b[0m \u001b[0;32mis\u001b[0m \u001b[0;32mNone\u001b[0m\u001b[0;34m:\u001b[0m\u001b[0;34m\u001b[0m\u001b[0;34m\u001b[0m\u001b[0m\n\u001b[0m\u001b[1;32m    948\u001b[0m             warnings.warn(\"The .grad attribute of a Tensor that is not a leaf Tensor is being accessed. Its .grad \"\n\u001b[1;32m    949\u001b[0m                           \u001b[0;34m\"attribute won't be populated during autograd.backward(). If you indeed want the gradient \"\u001b[0m\u001b[0;34m\u001b[0m\u001b[0;34m\u001b[0m\u001b[0m\n",
      "\u001b[0;31mKeyboardInterrupt\u001b[0m: "
     ]
    }
   ],
   "source": [
    "ckp_path = \"training_checkpoints/checkpoint.pt\"\n",
    "model, optimizer, start_epoch = load_ckp(ckp_path, model, optimizer)\n",
    "train(model, optimizer, num_epochs, start_epoch, batch_size, learning_rate, trainloader, False)"
   ]
  },
  {
   "cell_type": "markdown",
   "metadata": {},
   "source": [
    "## CUDA training of the neural network"
   ]
  },
  {
   "cell_type": "code",
   "execution_count": 131,
   "metadata": {},
   "outputs": [],
   "source": [
    "#device = torch.device(\"cuda:0\" if torch.cuda.is_available() else \"cpu\")\n",
    "#model.to(device)\n",
    "#ckp_path = \"training_checkpoints/checkpoint.pt\"\n",
    "#model, optimizer, start_epoch = load_ckp(ckp_path, model, optimizer)\n",
    "#train(model, optimizer, num_epochs, start_epoch, batch_size, learning_rate, trainloader, True)"
   ]
  },
  {
   "cell_type": "markdown",
   "metadata": {},
   "source": [
    "- Of course, repeated calls to `train` will continue training from where it were\n",
    "- Training a neural network is a highly iterative process."
   ]
  },
  {
   "cell_type": "markdown",
   "metadata": {
    "colab_type": "text",
    "id": "qpAJUiHm529m"
   },
   "source": [
    "## Evaluate the final performance of the Network\n",
    "\n",
    "- Once you think your network is properly trained, you will test its performance on the testing-set of the CIFAR-10 dataset\n",
    "- Compute the final accuracy of your model\n",
    "- You should be able to reach a 50% accuracy with a simple multi-layer perceptron"
   ]
  },
  {
   "cell_type": "code",
   "execution_count": 153,
   "metadata": {},
   "outputs": [
    {
     "data": {
      "image/png": "[encoded data removed]",
      "text/plain": [
       "<Figure size 864x864 with 1 Axes>"
      ]
     },
     "metadata": {
      "needs_background": "light"
     },
     "output_type": "display_data"
    },
    {
     "name": "stdout",
     "output_type": "stream",
     "text": [
      "GroundTruth:   bird truck  bird  deer\n"
     ]
    }
   ],
   "source": [
    "dataiter = iter(testloader)\n",
    "images, labels = dataiter.next()\n",
    "\n",
    "# print images\n",
    "show_images(torchvision.utils.make_grid(images))\n",
    "print('GroundTruth: ', ' '.join('%5s' % classes[labels[j]] for j in range(batch_size)))"
   ]
  },
  {
   "cell_type": "code",
   "execution_count": 154,
   "metadata": {},
   "outputs": [],
   "source": [
    "model, optimizer, start_epoch = load_ckp(ckp_path, model, optimizer)"
   ]
  },
  {
   "cell_type": "code",
   "execution_count": 155,
   "metadata": {},
   "outputs": [],
   "source": [
    "outputs = model(images)"
   ]
  },
  {
   "cell_type": "code",
   "execution_count": 156,
   "metadata": {},
   "outputs": [
    {
     "name": "stdout",
     "output_type": "stream",
     "text": [
      "Predicted:    dog truck  frog horse\n"
     ]
    }
   ],
   "source": [
    "_, predicted = torch.max(outputs, 1)\n",
    "\n",
    "print('Predicted: ', ' '.join('%5s' % classes[predicted[j]]\n",
    "                              for j in range(batch_size)))"
   ]
  },
  {
   "cell_type": "code",
   "execution_count": 152,
   "metadata": {},
   "outputs": [
    {
     "name": "stdout",
     "output_type": "stream",
     "text": [
      "Accuracy of the network on the 10000 test images: 39 %\n"
     ]
    }
   ],
   "source": [
    "correct = 0\n",
    "total = 0\n",
    "with torch.no_grad():\n",
    "    for data in testloader:\n",
    "        images, labels = data\n",
    "        outputs = model(images)\n",
    "        _, predicted = torch.max(outputs.data, 1)\n",
    "        total += labels.size(0)\n",
    "        correct += (predicted == labels).sum().item()\n",
    "\n",
    "print('Accuracy of the network on the 10000 test images: %d %%' % (\n",
    "    100 * correct / total))"
   ]
  },
  {
   "cell_type": "code",
   "execution_count": 157,
   "metadata": {},
   "outputs": [
    {
     "name": "stdout",
     "output_type": "stream",
     "text": [
      "Accuracy of plane : 46 %\n",
      "Accuracy of   car : 43 %\n",
      "Accuracy of  bird : 24 %\n",
      "Accuracy of   cat : 24 %\n",
      "Accuracy of  deer : 32 %\n",
      "Accuracy of   dog : 30 %\n",
      "Accuracy of  frog : 45 %\n",
      "Accuracy of horse : 43 %\n",
      "Accuracy of  ship : 54 %\n",
      "Accuracy of truck : 45 %\n"
     ]
    }
   ],
   "source": [
    "class_correct = list(0. for i in range(10))\n",
    "class_total = list(0. for i in range(10))\n",
    "with torch.no_grad():\n",
    "    for data in testloader:\n",
    "        images, labels = data\n",
    "        outputs = model(images)\n",
    "        _, predicted = torch.max(outputs, 1)\n",
    "        c = (predicted == labels).squeeze()\n",
    "        for i in range(4):\n",
    "            label = labels[i]\n",
    "            class_correct[label] += c[i].item()\n",
    "            class_total[label] += 1\n",
    "\n",
    "\n",
    "for i in range(10):\n",
    "    print('Accuracy of %5s : %2d %%' % (\n",
    "        classes[i], 100 * class_correct[i] / class_total[i]))"
   ]
  },
  {
   "cell_type": "code",
   "execution_count": null,
   "metadata": {
    "colab": {
     "base_uri": "https://localhost:8080/",
     "height": 72
    },
    "colab_type": "code",
    "executionInfo": {
     "elapsed": 2278,
     "status": "ok",
     "timestamp": 1545795466013,
     "user": {
      "displayName": "Buomsoo Kim",
      "photoUrl": "",
      "userId": "18268696804115368229"
     },
     "user_tz": 420
    },
    "id": "txXH3dknFpSx",
    "outputId": "9330f014-2687-4464-b495-1ba861511e38"
   },
   "outputs": [],
   "source": [
    "def test():"
   ]
  },
  {
   "cell_type": "code",
   "execution_count": null,
   "metadata": {},
   "outputs": [],
   "source": [
    "test()"
   ]
  },
  {
   "cell_type": "markdown",
   "metadata": {},
   "source": [
    "**Final remark.** Of course, this is far from being the state-of-the-art. Indeed, convolutional neural nets are the backbones for computer vision problems (we will do it in following labs), while we only used here a feed-forward network."
   ]
  },
  {
   "cell_type": "markdown",
   "metadata": {
    "ExecuteTime": {
     "end_time": "2021-02-19T11:20:48.131197Z",
     "start_time": "2021-02-19T11:20:48.126926Z"
    }
   },
   "source": [
    "## Redo it using `pytorch-lightning`\n",
    "\n",
    "There is some boilerplates in pure `PyTorch` code. The `pytorch-lighting` library is a new library allowing to simplify a lot the use of `PyTorch` together with very nice options for faster training and development.\n",
    "\n",
    "**QUESTION**. Recode your neural network and its training using `pytorch-lightning`."
   ]
  },
  {
   "cell_type": "code",
   "execution_count": null,
   "metadata": {},
   "outputs": [],
   "source": []
  }
 ],
 "metadata": {
  "accelerator": "GPU",
  "colab": {
   "collapsed_sections": [],
   "name": "DL-with-pytorch - 2 [MLP].ipynb",
   "provenance": [],
   "version": "0.3.2"
  },
  "kernelspec": {
   "display_name": "Python 3",
   "language": "python",
   "name": "python3"
  },
  "language_info": {
   "codemirror_mode": {
    "name": "ipython",
    "version": 3
   },
   "file_extension": ".py",
   "mimetype": "text/x-python",
   "name": "python",
   "nbconvert_exporter": "python",
   "pygments_lexer": "ipython3",
   "version": "3.8.5"
  },
  "toc": {
   "base_numbering": 1,
   "nav_menu": {},
   "number_sections": true,
   "sideBar": true,
   "skip_h1_title": true,
   "title_cell": "Table of Contents",
   "title_sidebar": "Contents",
   "toc_cell": false,
   "toc_position": {},
   "toc_section_display": true,
   "toc_window_display": true
  }
 },
 "nbformat": 4,
 "nbformat_minor": 1
}
